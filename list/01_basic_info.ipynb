{
 "cells": [
  {
   "cell_type": "markdown",
   "id": "e2f80969",
   "metadata": {},
   "source": [
    "# what is list?\n",
    "• A list is a data type in python.\n",
    "\n",
    "• list is a collection of data that is ordered and changeable.\n",
    "\n",
    "• It is used to store multiple items in a single variable.  \n",
    "Eg. l = [1,2,3,4]\n",
    "\n",
    "• A list is created by placing all the elements inside square bracket [], separated by commas.\n",
    "\n",
    "• tuple can be represented by using square brackets [] or list() constructor.\n",
    "\n",
    "• We can create a list by enclosing comma-separated elements inside square brackets [], or by passing the comma-separated elements inside the list() constructor.\n",
    "\n",
    "### Ordered:- \n",
    "it preserves sequence order.\n",
    "\n",
    "### mutable:- \n",
    "list is a mutable data type this means that element of a list can be changed once created.\n",
    "\n",
    "### Duplicates:- \n",
    "duplicate elements are allowed in the list.\n",
    "\n",
    "• It support homogenous and heterogeneous data. \n",
    "Eg. ['abc', 30, 45.75, [25, 78]]\n",
    "• To get the length of the list we have len() function.\n",
    "• The background data structure of the list is an array. Hence indexing is obvious.\n",
    "\n",
    "### Indexing\n",
    "\n",
    "•Indexing is used for accessing a single element.   \n",
    "\n",
    "there are two types of indexing\n",
    "\n",
    "1) positive indexing :- positive indexing start from 0 to n-1.    \n",
    "For example, suppose we have a list l = ['a' , 'b' ,1,2,3] and  if we want to access the 3rd element then need to use l[2] here we get 3rd element which is 2.\n",
    "\n",
    "2)negative indexing:- negative indexing start from -n to -1.The index of -1 refers to the last item, -2 to the second last item and so on.\n",
    "For example, suppose we have a list t = ['a' , 'b' ,1,2,3] and  if we want to access the 3rd element then need to use l[-3] here we get 3rd element which is 2.\n",
    "\n",
    "The index must be an integer. We can't use floats or other types, this will result \n",
    "into TypeError.\n",
    "If we mention the index value greater than the length of a list then it will throw an index error.\n",
    "\n",
    "### slicing\n",
    "\n",
    "• When we want access multiple elements in a sequence for this we have a slicing. Slicing is based on indexing only. We use : colon for slicing.                                                       \n",
    "Specify the start index and the end index, separated by a colon, to return a part of the list.\n",
    "\n",
    "Syntax: [start index : stop index : step]\n",
    "Eg. Suppose we have a list l = ['a' , 'b' ,1,2,3] now here we can use slicing  l[1:4] then we got ['b' ,1,2].                    Ending index is excluded.                                                                                                   \n",
    "If we want reverse string then we can use [start index : stop index: -1] "
   ]
  },
  {
   "cell_type": "markdown",
   "id": "02b585f5",
   "metadata": {},
   "source": [
    "# Basic quesions on a list"
   ]
  },
  {
   "cell_type": "code",
   "execution_count": 1,
   "id": "026ddd56",
   "metadata": {},
   "outputs": [],
   "source": [
    "# suoppose we have a list\n",
    "l = [1,4,3,6,4,7,9]"
   ]
  },
  {
   "attachments": {},
   "cell_type": "markdown",
   "id": "079d7a5d",
   "metadata": {},
   "source": [
    "### Que. How to open list of list methods?"
   ]
  },
  {
   "cell_type": "code",
   "execution_count": 2,
   "id": "d148fa75",
   "metadata": {},
   "outputs": [
    {
     "data": {
      "text/plain": [
       "['__add__',\n",
       " '__class__',\n",
       " '__class_getitem__',\n",
       " '__contains__',\n",
       " '__delattr__',\n",
       " '__delitem__',\n",
       " '__dir__',\n",
       " '__doc__',\n",
       " '__eq__',\n",
       " '__format__',\n",
       " '__ge__',\n",
       " '__getattribute__',\n",
       " '__getitem__',\n",
       " '__gt__',\n",
       " '__hash__',\n",
       " '__iadd__',\n",
       " '__imul__',\n",
       " '__init__',\n",
       " '__init_subclass__',\n",
       " '__iter__',\n",
       " '__le__',\n",
       " '__len__',\n",
       " '__lt__',\n",
       " '__mul__',\n",
       " '__ne__',\n",
       " '__new__',\n",
       " '__reduce__',\n",
       " '__reduce_ex__',\n",
       " '__repr__',\n",
       " '__reversed__',\n",
       " '__rmul__',\n",
       " '__setattr__',\n",
       " '__setitem__',\n",
       " '__sizeof__',\n",
       " '__str__',\n",
       " '__subclasshook__',\n",
       " 'append',\n",
       " 'clear',\n",
       " 'copy',\n",
       " 'count',\n",
       " 'extend',\n",
       " 'index',\n",
       " 'insert',\n",
       " 'pop',\n",
       " 'remove',\n",
       " 'reverse',\n",
       " 'sort']"
      ]
     },
     "execution_count": 2,
     "metadata": {},
     "output_type": "execute_result"
    }
   ],
   "source": [
    "# using dir(list_name) function we get all the methods of list.\n",
    "dir(l)"
   ]
  },
  {
   "cell_type": "markdown",
   "id": "6c25cc4f",
   "metadata": {},
   "source": [
    "### How to create an empty list?"
   ]
  },
  {
   "cell_type": "code",
   "execution_count": 3,
   "id": "8dcb5aba",
   "metadata": {},
   "outputs": [],
   "source": [
    "# There are two ways to create empty list.\n",
    "# Using list() constructor. \n",
    "l1 = list()\n",
    "\n",
    "# using square bracket [].\n",
    "l2 = []"
   ]
  },
  {
   "attachments": {},
   "cell_type": "markdown",
   "id": "38a94fb0",
   "metadata": {},
   "source": [
    "### Que. How to get length of list?"
   ]
  },
  {
   "cell_type": "code",
   "execution_count": 4,
   "id": "09c3a5a6",
   "metadata": {},
   "outputs": [
    {
     "data": {
      "text/plain": [
       "5"
      ]
     },
     "execution_count": 4,
     "metadata": {},
     "output_type": "execute_result"
    }
   ],
   "source": [
    "list1 = ['a' , 'b' , 1, 2, 3]\n",
    "len(list1)"
   ]
  },
  {
   "attachments": {},
   "cell_type": "markdown",
   "id": "06125b6d",
   "metadata": {},
   "source": [
    "### Que. How get information about particular method?"
   ]
  },
  {
   "cell_type": "code",
   "execution_count": 5,
   "id": "a853e170",
   "metadata": {},
   "outputs": [
    {
     "name": "stdout",
     "output_type": "stream",
     "text": [
      "Help on method_descriptor:\n",
      "\n",
      "index(self, value, start=0, stop=9223372036854775807, /)\n",
      "    Return first index of value.\n",
      "    \n",
      "    Raises ValueError if the value is not present.\n",
      "\n"
     ]
    }
   ],
   "source": [
    "# Syntax:- help(list.method_name)\n",
    "# Eg. How to know information about index()\n",
    "help(list.index)"
   ]
  },
  {
   "cell_type": "code",
   "execution_count": null,
   "id": "5ee057fb",
   "metadata": {},
   "outputs": [],
   "source": []
  }
 ],
 "metadata": {
  "kernelspec": {
   "display_name": "Python 3 (ipykernel)",
   "language": "python",
   "name": "python3"
  },
  "language_info": {
   "codemirror_mode": {
    "name": "ipython",
    "version": 3
   },
   "file_extension": ".py",
   "mimetype": "text/x-python",
   "name": "python",
   "nbconvert_exporter": "python",
   "pygments_lexer": "ipython3",
   "version": "3.9.7"
  }
 },
 "nbformat": 4,
 "nbformat_minor": 5
}
