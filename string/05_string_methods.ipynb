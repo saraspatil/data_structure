{
 "cells": [
  {
   "cell_type": "markdown",
   "id": "17658ce0",
   "metadata": {},
   "source": [
    "# split()\n",
    "### The split() method splits the string from the specified separator and returns a list object with string elements. The default separator is any whitespace character such as space, \\t, \\n, etc.\n",
    "### Syntax: - str.split(separator, maxsplit)\n",
    "### Parameters:\n",
    "#### separator: (optional) The delimiter string. The default separator is any whitespace character such as space, \\t, \\n, etc.\n",
    "#### maxsplit: (optional) Defines the maximum number of splits that can be done. Thus, the list can contain at most maxsplit + 1 elements. The default maxsplit is -1 that means unlimited splits."
   ]
  },
  {
   "cell_type": "markdown",
   "id": "e6839592",
   "metadata": {},
   "source": [
    "### If the specified seperator does not exist, then it returns a list with the whole string as an element."
   ]
  },
  {
   "cell_type": "code",
   "execution_count": 1,
   "id": "59a2ff77",
   "metadata": {},
   "outputs": [
    {
     "name": "stdout",
     "output_type": "stream",
     "text": [
      "['C,Python,R,Java,SQL,Hadoop']\n",
      "['C,Python,R,Java,SQL,Hadoop']\n"
     ]
    }
   ],
   "source": [
    "langs = 'C,Python,R,Java,SQL,Hadoop'\n",
    "print(langs.split())\n",
    "print(langs.split('data'))\n",
    "\n"
   ]
  },
  {
   "cell_type": "code",
   "execution_count": 2,
   "id": "16526a8c",
   "metadata": {},
   "outputs": [
    {
     "data": {
      "text/plain": [
       "['hello', 'world']"
      ]
     },
     "execution_count": 2,
     "metadata": {},
     "output_type": "execute_result"
    }
   ],
   "source": [
    "s = 'hello world'\n",
    "s.split()  # if seperator does not exist,bydefault it takes space as an seperator"
   ]
  },
  {
   "cell_type": "markdown",
   "id": "f00edde6",
   "metadata": {},
   "source": [
    "### The split() method will raise the ValueError if a separator is an empty string ''."
   ]
  },
  {
   "cell_type": "code",
   "execution_count": 3,
   "id": "ab3b1d76",
   "metadata": {},
   "outputs": [
    {
     "ename": "ValueError",
     "evalue": "empty separator",
     "output_type": "error",
     "traceback": [
      "\u001b[1;31m---------------------------------------------------------------------------\u001b[0m",
      "\u001b[1;31mValueError\u001b[0m                                Traceback (most recent call last)",
      "\u001b[1;32m~\\AppData\\Local\\Temp/ipykernel_14848/2388735119.py\u001b[0m in \u001b[0;36m<module>\u001b[1;34m\u001b[0m\n\u001b[0;32m      1\u001b[0m \u001b[0ms\u001b[0m \u001b[1;33m=\u001b[0m \u001b[1;34m'hello world'\u001b[0m\u001b[1;33m\u001b[0m\u001b[1;33m\u001b[0m\u001b[0m\n\u001b[1;32m----> 2\u001b[1;33m \u001b[0ms\u001b[0m\u001b[1;33m.\u001b[0m\u001b[0msplit\u001b[0m\u001b[1;33m(\u001b[0m\u001b[1;34m''\u001b[0m\u001b[1;33m)\u001b[0m\u001b[1;33m\u001b[0m\u001b[1;33m\u001b[0m\u001b[0m\n\u001b[0m",
      "\u001b[1;31mValueError\u001b[0m: empty separator"
     ]
    }
   ],
   "source": [
    "s = 'hello world'\n",
    "s.split('')"
   ]
  },
  {
   "cell_type": "code",
   "execution_count": 4,
   "id": "12cfe04f",
   "metadata": {},
   "outputs": [
    {
     "name": "stdout",
     "output_type": "stream",
     "text": [
      "['apples', 'banana', 'mango$fig$pear']\n",
      "['apples', 'banana', 'mango', 'fig', 'pear']\n"
     ]
    }
   ],
   "source": [
    "fruits = 'apples$banana$mango$fig$pear'\n",
    "print(fruits.split('$', 2))  #using maxplit\n",
    "print(fruits.split('$'))"
   ]
  },
  {
   "cell_type": "markdown",
   "id": "47da2688",
   "metadata": {},
   "source": [
    "# partition()\n",
    "### Returns tuple that contains three elements\n",
    "### The part before the separator as a first element, the separator itself as a second element, and the part after the separator as a third element if the specified separator is found.\n",
    "### If the specified separator is not found, then returns the string itself as a first element and two empty string elements.\n",
    "### str.partition(sep)\n",
    "### sep: (Required) A string separator."
   ]
  },
  {
   "cell_type": "code",
   "execution_count": 5,
   "id": "3dbe530c",
   "metadata": {},
   "outputs": [
    {
     "name": "stdout",
     "output_type": "stream",
     "text": [
      "('Hello', ' ', 'World')\n",
      "('How ', 'are', ' you?')\n"
     ]
    }
   ],
   "source": [
    "mystr = 'Hello World'\n",
    "print(mystr.partition(' '))\n",
    "\n",
    "mystr = 'How are you?'\n",
    "print(mystr.partition('are'))"
   ]
  },
  {
   "cell_type": "markdown",
   "id": "d54e200b",
   "metadata": {},
   "source": [
    "### If the separator is not present in the string, then the tuple contains the original string and two empty strings, as shown below. If the separator is an empty string, then the partition() method will throw ValueError, as shown below."
   ]
  },
  {
   "cell_type": "code",
   "execution_count": 6,
   "id": "1f7fab53",
   "metadata": {},
   "outputs": [
    {
     "name": "stdout",
     "output_type": "stream",
     "text": [
      "('Hello World', '', '')\n"
     ]
    },
    {
     "ename": "ValueError",
     "evalue": "empty separator",
     "output_type": "error",
     "traceback": [
      "\u001b[1;31m---------------------------------------------------------------------------\u001b[0m",
      "\u001b[1;31mValueError\u001b[0m                                Traceback (most recent call last)",
      "\u001b[1;32m~\\AppData\\Local\\Temp/ipykernel_14848/2886957466.py\u001b[0m in \u001b[0;36m<module>\u001b[1;34m\u001b[0m\n\u001b[0;32m      3\u001b[0m \u001b[1;33m\u001b[0m\u001b[0m\n\u001b[0;32m      4\u001b[0m \u001b[0mmystr\u001b[0m \u001b[1;33m=\u001b[0m \u001b[1;34m'Hello World'\u001b[0m\u001b[1;33m\u001b[0m\u001b[1;33m\u001b[0m\u001b[0m\n\u001b[1;32m----> 5\u001b[1;33m \u001b[0mprint\u001b[0m\u001b[1;33m(\u001b[0m\u001b[0mmystr\u001b[0m\u001b[1;33m.\u001b[0m\u001b[0mpartition\u001b[0m\u001b[1;33m(\u001b[0m\u001b[1;34m''\u001b[0m\u001b[1;33m)\u001b[0m\u001b[1;33m)\u001b[0m\u001b[1;33m\u001b[0m\u001b[1;33m\u001b[0m\u001b[0m\n\u001b[0m",
      "\u001b[1;31mValueError\u001b[0m: empty separator"
     ]
    }
   ],
   "source": [
    "mystr = 'Hello World'\n",
    "print(mystr.partition('s'))\n",
    "\n",
    "mystr = 'Hello World'\n",
    "print(mystr.partition(''))"
   ]
  },
  {
   "cell_type": "markdown",
   "id": "a39fac66",
   "metadata": {},
   "source": [
    "### The partition() method will only split the string at the first occurrence of the separator."
   ]
  },
  {
   "cell_type": "code",
   "execution_count": 7,
   "id": "73768939",
   "metadata": {},
   "outputs": [
    {
     "name": "stdout",
     "output_type": "stream",
     "text": [
      "('', 'T', 'utorialsTeacher')\n"
     ]
    }
   ],
   "source": [
    "mystr=\"TutorialsTeacher\"\n",
    "print(mystr.partition(\"T\"))"
   ]
  },
  {
   "cell_type": "markdown",
   "id": "3d9ced22",
   "metadata": {},
   "source": [
    "# join()\n",
    "# it returns a string, which is the concatenation of the string with the string elements of the specified iterable.\n",
    "### Syntax: str.join(iterable)\n",
    "### Parameters:\n",
    "### iterable: (Required) An iterable object such as list, tuple, string, set, dict."
   ]
  },
  {
   "cell_type": "code",
   "execution_count": 8,
   "id": "a042b359",
   "metadata": {},
   "outputs": [
    {
     "name": "stdout",
     "output_type": "stream",
     "text": [
      "h,e,l,l,o, ,w,o,r,l,d\n",
      "h e l l o   w o r l d\n"
     ]
    }
   ],
   "source": [
    "# string iterable\n",
    "str = 'hello world'\n",
    "print(','.join(str))  # join with ,\n",
    "print(' '.join(str))  # join with space"
   ]
  },
  {
   "cell_type": "code",
   "execution_count": 9,
   "id": "0e1a3147",
   "metadata": {},
   "outputs": [
    {
     "name": "stdout",
     "output_type": "stream",
     "text": [
      "1,2,3,4\n",
      "1234\n",
      "1 2 3 4\n",
      "1****2****3****4\n"
     ]
    }
   ],
   "source": [
    "# list of string iterable\n",
    "l = ['1','2','3','4']\n",
    "print(','.join(l))\n",
    "print(''.join(l))\n",
    "print(' '.join(l))\n",
    "print('****'.join(l))"
   ]
  },
  {
   "cell_type": "code",
   "execution_count": 10,
   "id": "75140c37",
   "metadata": {},
   "outputs": [
    {
     "name": "stdout",
     "output_type": "stream",
     "text": [
      "1,2,3,4\n",
      "1234\n",
      "1 2 3 4\n",
      "1****2****3****4\n"
     ]
    }
   ],
   "source": [
    "# tuple of string\n",
    "t = ('1','2','3','4')\n",
    "print(','.join(t))\n",
    "print(''.join(t))\n",
    "print(' '.join(t))\n",
    "print('****'.join(t))"
   ]
  },
  {
   "cell_type": "markdown",
   "id": "00f25b44",
   "metadata": {},
   "source": [
    "# strip()\n",
    "### The strip() method returns a copy of the string by removing both the leading and the trailing characters. By default, it removes leading whitespaces if no argument passed.\n",
    "### Syntax: - str.strip(characters)"
   ]
  },
  {
   "cell_type": "code",
   "execution_count": 11,
   "id": "6fa0bb08",
   "metadata": {},
   "outputs": [
    {
     "name": "stdout",
     "output_type": "stream",
     "text": [
      "Hello World\n",
      "Python is \n",
      "a programming language\n",
      "Hello World\n"
     ]
    }
   ],
   "source": [
    "mystr = '     Hello World     '\n",
    "print(mystr.strip()) \n",
    "\n",
    "mystr = '''\n",
    "Python is \n",
    "a programming language'''\n",
    "print(mystr.strip())  \n",
    "\n",
    "mystr = '----Hello World----'\n",
    "print(mystr.strip('-'))  \n"
   ]
  },
  {
   "cell_type": "markdown",
   "id": "7cf67b15",
   "metadata": {},
   "source": [
    "### You can specify one or more characters as a string to be removed from the string in any order, as shown below."
   ]
  },
  {
   "cell_type": "code",
   "execution_count": 12,
   "id": "7653568a",
   "metadata": {},
   "outputs": [
    {
     "data": {
      "text/plain": [
       "'Hello World'"
      ]
     },
     "execution_count": 12,
     "metadata": {},
     "output_type": "execute_result"
    }
   ],
   "source": [
    "'#$-2Hello World#$2'.strip('$-22#')"
   ]
  },
  {
   "cell_type": "code",
   "execution_count": 13,
   "id": "bc952bff",
   "metadata": {},
   "outputs": [
    {
     "data": {
      "text/plain": [
       "'tutorialsteacher.com'"
      ]
     },
     "execution_count": 13,
     "metadata": {},
     "output_type": "execute_result"
    }
   ],
   "source": [
    "'www.tutorialsteacher.com/'.strip('/w.')"
   ]
  },
  {
   "cell_type": "markdown",
   "id": "b01fbf80",
   "metadata": {},
   "source": [
    "# replace()\n",
    "### Returns a new string that is replaced with the new substring.\n",
    "### str.replace(old, new, count)\n",
    "### Parameters:\n",
    "### old : A substring that should be replaced.\n",
    "### new : A new substring that will replace the old substring.\n",
    "### count : (Optional) An integer indicating the number of times you want to replace the old substring with the new substring.\n"
   ]
  },
  {
   "cell_type": "code",
   "execution_count": 14,
   "id": "64b33a05",
   "metadata": {},
   "outputs": [
    {
     "name": "stdout",
     "output_type": "stream",
     "text": [
      "Hi World!\n",
      "lemons, bananas, lemons, lemons, cherries\n"
     ]
    }
   ],
   "source": [
    "mystr = 'Hello World!'\n",
    "print(mystr.replace('Hello','Hi'))\n",
    "\n",
    "mystr = 'apples, bananas, apples, apples, cherries'\n",
    "print(mystr.replace('apples','lemons'))"
   ]
  },
  {
   "cell_type": "markdown",
   "id": "45493ad4",
   "metadata": {},
   "source": [
    "### The count parameter specifies the maximum number of replacements should happen, as shown below."
   ]
  },
  {
   "cell_type": "code",
   "execution_count": 15,
   "id": "442b61da",
   "metadata": {},
   "outputs": [
    {
     "name": "stdout",
     "output_type": "stream",
     "text": [
      "lemons, bananas, lemons, apples, cherries, apples\n",
      "SQL, Java, Python, C are programming languages\n"
     ]
    }
   ],
   "source": [
    "mystr = 'apples, bananas, apples, apples, cherries, apples'\n",
    "print(mystr.replace('apples','lemons',2))\n",
    "\n",
    "mystr = 'Python, Java, Python, C are programming languages'\n",
    "print(mystr.replace('Python','SQL',1))"
   ]
  },
  {
   "cell_type": "markdown",
   "id": "9626000f",
   "metadata": {},
   "source": [
    "# center()\n",
    "### The center() method returns a new centered string of the specified length, which is padded with the specified character. The deafult character is space.\n",
    "### Syntax: str.center(width, fillchar)\n",
    "### Parameters:\n",
    "#### width : The total length of the string.\n",
    "#### fillchar :(Optional) A character to be used for padding."
   ]
  },
  {
   "cell_type": "code",
   "execution_count": 16,
   "id": "93cbd078",
   "metadata": {},
   "outputs": [
    {
     "name": "stdout",
     "output_type": "stream",
     "text": [
      "-Hi-\n",
      "**Hi*\n",
      ">>Hi>>\n",
      "       Hi      \n"
     ]
    }
   ],
   "source": [
    "greet='Hi'\n",
    "print(greet.center(4, '-'))\n",
    "print(greet.center(5, '*'))\n",
    "print(greet.center(6, '>'))\n",
    "print(greet.center(15)) #with default fillchar"
   ]
  },
  {
   "cell_type": "markdown",
   "id": "77b7943a",
   "metadata": {},
   "source": [
    "### If the length of the string is greater than the specified width then the original string is returned without any padding."
   ]
  },
  {
   "cell_type": "code",
   "execution_count": 17,
   "id": "f57f6be7",
   "metadata": {},
   "outputs": [
    {
     "name": "stdout",
     "output_type": "stream",
     "text": [
      "Python is a programming language\n",
      "Hello World\n"
     ]
    }
   ],
   "source": [
    "mystr = 'Python is a programming language'\n",
    "print(mystr.center(20, '-'))\n",
    "\n",
    "mystr = 'Hello World'\n",
    "print(mystr.center(2,'*'))"
   ]
  },
  {
   "cell_type": "markdown",
   "id": "77d72a23",
   "metadata": {},
   "source": [
    "### The center() method will throw a TypeError if the width is not specified."
   ]
  },
  {
   "cell_type": "code",
   "execution_count": 18,
   "id": "56b512c3",
   "metadata": {},
   "outputs": [
    {
     "ename": "TypeError",
     "evalue": "center expected at least 1 argument, got 0",
     "output_type": "error",
     "traceback": [
      "\u001b[1;31m---------------------------------------------------------------------------\u001b[0m",
      "\u001b[1;31mTypeError\u001b[0m                                 Traceback (most recent call last)",
      "\u001b[1;32m~\\AppData\\Local\\Temp/ipykernel_14848/483529426.py\u001b[0m in \u001b[0;36m<module>\u001b[1;34m\u001b[0m\n\u001b[0;32m      1\u001b[0m \u001b[0mgreet\u001b[0m \u001b[1;33m=\u001b[0m \u001b[1;34m'Hi'\u001b[0m\u001b[1;33m\u001b[0m\u001b[1;33m\u001b[0m\u001b[0m\n\u001b[1;32m----> 2\u001b[1;33m \u001b[0mprint\u001b[0m\u001b[1;33m(\u001b[0m\u001b[0mgreet\u001b[0m\u001b[1;33m.\u001b[0m\u001b[0mcenter\u001b[0m\u001b[1;33m(\u001b[0m\u001b[1;33m)\u001b[0m\u001b[1;33m)\u001b[0m\u001b[1;33m\u001b[0m\u001b[1;33m\u001b[0m\u001b[0m\n\u001b[0m",
      "\u001b[1;31mTypeError\u001b[0m: center expected at least 1 argument, got 0"
     ]
    }
   ],
   "source": [
    "greet = 'Hi'\n",
    "print(greet.center())"
   ]
  },
  {
   "cell_type": "code",
   "execution_count": null,
   "id": "68e99909",
   "metadata": {},
   "outputs": [],
   "source": []
  }
 ],
 "metadata": {
  "kernelspec": {
   "display_name": "Python 3 (ipykernel)",
   "language": "python",
   "name": "python3"
  },
  "language_info": {
   "codemirror_mode": {
    "name": "ipython",
    "version": 3
   },
   "file_extension": ".py",
   "mimetype": "text/x-python",
   "name": "python",
   "nbconvert_exporter": "python",
   "pygments_lexer": "ipython3",
   "version": "3.9.7"
  }
 },
 "nbformat": 4,
 "nbformat_minor": 5
}
