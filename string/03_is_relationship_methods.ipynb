{
 "cells": [
  {
   "cell_type": "markdown",
   "id": "6a5894eb",
   "metadata": {},
   "source": [
    "# is relationship methods\n",
    "### it always returns boolean output."
   ]
  },
  {
   "cell_type": "markdown",
   "id": "04294571",
   "metadata": {},
   "source": [
    "# isalnum()\n",
    "### Returns True if all characters in the string are alphanumeric and returns False even if one character is not alphanumeric.\n",
    "### Syntax: - str.isalnum()"
   ]
  },
  {
   "cell_type": "code",
   "execution_count": 1,
   "id": "bdc41d6f",
   "metadata": {},
   "outputs": [
    {
     "name": "stdout",
     "output_type": "stream",
     "text": [
      "True\n",
      "True\n",
      "True\n"
     ]
    }
   ],
   "source": [
    "mystr = 'Hello123'\n",
    "print(mystr.isalnum())\n",
    "\n",
    "mystr = '12345'\n",
    "print(mystr.isalnum())\n",
    "\n",
    "mystr = 'TutorialsTeacher'\n",
    "print(mystr.isalnum())"
   ]
  },
  {
   "cell_type": "markdown",
   "id": "407117cc",
   "metadata": {},
   "source": [
    "### The isalnum() method will return False if the string consists of whitespaces and symbols."
   ]
  },
  {
   "cell_type": "code",
   "execution_count": 2,
   "id": "78a2f6b2",
   "metadata": {},
   "outputs": [
    {
     "name": "stdout",
     "output_type": "stream",
     "text": [
      "False\n",
      "False\n",
      "False\n"
     ]
    }
   ],
   "source": [
    "mystr = 'Python is a programming language.'\n",
    "print(mystr.isalnum())\n",
    "\n",
    "mystr = '#1'\n",
    "print(mystr.isalnum())\n",
    "\n",
    "mystr = 'Hello\\tWorld'\n",
    "print(mystr.isalnum())"
   ]
  },
  {
   "cell_type": "markdown",
   "id": "976dcd9d",
   "metadata": {},
   "source": [
    "### The isalnum() method can be used to identify non-alphanumerics in a string, as shown below."
   ]
  },
  {
   "cell_type": "code",
   "execution_count": 3,
   "id": "9b6db11f",
   "metadata": {},
   "outputs": [
    {
     "name": "stdout",
     "output_type": "stream",
     "text": [
      "non-alphanumerics:*,@, ,#,"
     ]
    }
   ],
   "source": [
    "def printNonAlphanumeric(str):\n",
    "    print('non-alphanumerics:', end='')\n",
    "    for i in str:\n",
    "        if(i.isalnum() == False):\n",
    "            print(i,end=',')\n",
    "            \n",
    "printNonAlphanumeric('*@TutorialsTeacher #123')\n"
   ]
  },
  {
   "cell_type": "markdown",
   "id": "15399a6e",
   "metadata": {},
   "source": [
    "# isalpha()\n",
    "### The isalpha() method returns True if all characters in a string are alphabetic (both lowercase and uppercase) and returns False if at least one character is not an alphabet. The whitespace, numerics, and symbols are considered as non-alphabetical characters.\n",
    "### Syntax :- str.isalpha()"
   ]
  },
  {
   "cell_type": "code",
   "execution_count": 4,
   "id": "40b08cfe",
   "metadata": {},
   "outputs": [
    {
     "name": "stdout",
     "output_type": "stream",
     "text": [
      "True\n",
      "False\n",
      "False\n",
      "False\n"
     ]
    }
   ],
   "source": [
    "mystr = 'HelloWorld'\n",
    "print(mystr.isalpha()) # returns True\n",
    "\n",
    "mystr = 'Hello World'\n",
    "print(mystr.isalpha()) # returns False\n",
    "\n",
    "print('12345'.isalpha()) # returns False\n",
    "\n",
    "print('#Hundred'.isalpha()) # returns False"
   ]
  },
  {
   "cell_type": "markdown",
   "id": "0737dad9",
   "metadata": {},
   "source": [
    "### The isalpha() method can be used to identify non-alphabats in a string"
   ]
  },
  {
   "cell_type": "code",
   "execution_count": 5,
   "id": "ea3e97e5",
   "metadata": {},
   "outputs": [
    {
     "name": "stdout",
     "output_type": "stream",
     "text": [
      "non-alphabats: ,#,1,"
     ]
    }
   ],
   "source": [
    "def printNonAlphabats(mystr):\n",
    "    print('non-alphabats:', end='')\n",
    "    for i in mystr:\n",
    "        if(i.isalpha() == False):\n",
    "            print(i,end=',')\n",
    "\n",
    "printNonAlphabats('TutorialsTeacher #1')"
   ]
  },
  {
   "cell_type": "markdown",
   "id": "01e6d555",
   "metadata": {},
   "source": [
    "# isdecimal()\n",
    "### Returns True if all characters in the string are decimals; otherwise returns False even if one character is not decimal.Decimal characters are those that can be used to form numbers in base 10.\n",
    "### Syntax:- str.isdecimal()"
   ]
  },
  {
   "cell_type": "code",
   "execution_count": 6,
   "id": "be9e1436",
   "metadata": {},
   "outputs": [
    {
     "name": "stdout",
     "output_type": "stream",
     "text": [
      "True\n",
      "False\n",
      "False\n",
      "False\n"
     ]
    }
   ],
   "source": [
    "numstr = '12345'\n",
    "print(numstr.isdecimal()) # returns True\n",
    "\n",
    "numstr = '10.50'\n",
    "print(numstr.isdecimal()) # returns False\n",
    "\n",
    "alnumstr = '123A'\n",
    "print(alnumstr.isdecimal()) # returns False\n",
    "\n",
    "mystr = 'Python'\n",
    "print(mystr.isdecimal()) # returns False"
   ]
  },
  {
   "cell_type": "markdown",
   "id": "c198f415",
   "metadata": {},
   "source": [
    "### The isdecimal() method will return False if a string contains whitespaces, symbols or alphabets.\n",
    "\n"
   ]
  },
  {
   "cell_type": "code",
   "execution_count": 7,
   "id": "31b5a8ba",
   "metadata": {},
   "outputs": [
    {
     "name": "stdout",
     "output_type": "stream",
     "text": [
      "False\n",
      "False\n"
     ]
    }
   ],
   "source": [
    "amount = '$100'\n",
    "print(amount.isdecimal())\n",
    "\n",
    "code = '#007'\n",
    "print(mystr.isdecimal())"
   ]
  },
  {
   "cell_type": "markdown",
   "id": "25d7afbc",
   "metadata": {},
   "source": [
    "# isdigit()\n",
    "### Returns True if all characters in the string are digits and returns False even if one character is not a digit.\n",
    "### Syntax: - str.isdigit()"
   ]
  },
  {
   "cell_type": "code",
   "execution_count": 8,
   "id": "4d51ebbd",
   "metadata": {},
   "outputs": [
    {
     "name": "stdout",
     "output_type": "stream",
     "text": [
      "True\n",
      "False\n",
      "False\n"
     ]
    }
   ],
   "source": [
    "mystr = '12345'\n",
    "print(mystr.isdigit())\n",
    "\n",
    "mystr = '10.5'\n",
    "print(mystr.isdigit())\n",
    "\n",
    "mystr = 'python'\n",
    "print(mystr.isdigit())"
   ]
  },
  {
   "cell_type": "markdown",
   "id": "e60abd8d",
   "metadata": {},
   "source": [
    "### The isdigit() method will return False if the string contains whitespaces, symbols, or alphabets."
   ]
  },
  {
   "cell_type": "code",
   "execution_count": 9,
   "id": "6a734262",
   "metadata": {},
   "outputs": [
    {
     "name": "stdout",
     "output_type": "stream",
     "text": [
      "False\n",
      "False\n"
     ]
    }
   ],
   "source": [
    "s = '$100'\n",
    "print(s.isdigit())\n",
    "s1 = '100 '\n",
    "print(s1.isdigit())"
   ]
  },
  {
   "cell_type": "markdown",
   "id": "af8422b9",
   "metadata": {},
   "source": [
    "# isidentifier()\n",
    "### It returns True if the string is a valid identifier otherwise returns False.\n",
    "### A valid identifier string can only contain uppercase or lowercase alphabats A to Z, underscore, digits 0 to 9, and must start with an alphabats or an underscore. Learn more about identifier in Python.\n",
    "### Syntax : str.isidentifier()"
   ]
  },
  {
   "cell_type": "code",
   "execution_count": 10,
   "id": "0f889d04",
   "metadata": {},
   "outputs": [
    {
     "name": "stdout",
     "output_type": "stream",
     "text": [
      "True\n",
      "False\n"
     ]
    }
   ],
   "source": [
    "lang='Python'\n",
    "print(lang.isidentifier())\n",
    "\n",
    "greet='Hello World' \n",
    "print(greet.isidentifier()) # includes space so returns False\n"
   ]
  },
  {
   "cell_type": "markdown",
   "id": "002f6d50",
   "metadata": {},
   "source": [
    "### The is.identifier() method will return False if the first character of the string is numerical(0-9) or contains whitespaces. An empty string will return False."
   ]
  },
  {
   "cell_type": "code",
   "execution_count": 11,
   "id": "08e8822f",
   "metadata": {},
   "outputs": [
    {
     "name": "stdout",
     "output_type": "stream",
     "text": [
      "False\n",
      "False\n",
      "False\n",
      "False\n"
     ]
    }
   ],
   "source": [
    "print('1 Harbour side'.isidentifier())\n",
    "print('Hello World'.isidentifier())\n",
    "print('#1'.isidentifier())\n",
    "print(''.isidentifier())"
   ]
  },
  {
   "cell_type": "markdown",
   "id": "63e50132",
   "metadata": {},
   "source": [
    "### The is.identifier() method will return True if the string does not contain numbers(0-9) in the starting position. It will return True if there is an underscore regardless of its position."
   ]
  },
  {
   "cell_type": "code",
   "execution_count": 12,
   "id": "f36c00c7",
   "metadata": {},
   "outputs": [
    {
     "name": "stdout",
     "output_type": "stream",
     "text": [
      "True\n",
      "True\n"
     ]
    }
   ],
   "source": [
    "print('JamesBond_007'.isidentifier())\n",
    "\n",
    "print('_hello_world'.isidentifier())"
   ]
  },
  {
   "cell_type": "markdown",
   "id": "94c10076",
   "metadata": {},
   "source": [
    "# isnumeric()\n",
    "### It will return True if all characters are numeric and will return False even if one character is non-numeric.\n",
    "### Syntax: - str.isnumeric()"
   ]
  },
  {
   "cell_type": "code",
   "execution_count": 13,
   "id": "83e20d6d",
   "metadata": {},
   "outputs": [
    {
     "name": "stdout",
     "output_type": "stream",
     "text": [
      "True\n",
      "True\n",
      "True\n",
      "True\n"
     ]
    }
   ],
   "source": [
    "numstr = '100' #numeric digits\n",
    "print(numstr.isnumeric())\n",
    "\n",
    "numstr = '\\u0034' # \\u0034 is 4\n",
    "print(numstr.isnumeric())\n",
    "\n",
    "numstr = '\\u00BD' # \\u0024 is ½\n",
    "print(numstr.isnumeric())\n",
    "\n",
    "numstr = '¾' \n",
    "print(numstr.isnumeric())"
   ]
  },
  {
   "cell_type": "code",
   "execution_count": 14,
   "id": "b9d6f93b",
   "metadata": {},
   "outputs": [
    {
     "name": "stdout",
     "output_type": "stream",
     "text": [
      "False\n",
      "False\n",
      "False\n",
      "False\n",
      "False\n"
     ]
    }
   ],
   "source": [
    "str = '1A'                                                                          \n",
    "print(str.isnumeric())\n",
    "\n",
    "str = '1.1'                                                                          \n",
    "print(str.isnumeric())\n",
    "\n",
    "str = ''                                                   \n",
    "print(str.isnumeric())\n",
    "\n",
    "str = '#1'                                                   \n",
    "print(str.isnumeric())\n",
    "\n",
    "str = '$100'                                                   \n",
    "print(str.isnumeric())"
   ]
  },
  {
   "cell_type": "markdown",
   "id": "0be98beb",
   "metadata": {},
   "source": [
    "# islower()\n",
    "###  It returns True if all characters are lowercased and False even if one character is uppercase.\n",
    "### It returns False if a string contains only symblos and numbers, but returns True if symbols or numbers are with lower case string.\n",
    "### Syntax: - str.islower()"
   ]
  },
  {
   "cell_type": "code",
   "execution_count": 15,
   "id": "b043ffdb",
   "metadata": {},
   "outputs": [
    {
     "name": "stdout",
     "output_type": "stream",
     "text": [
      "True\n",
      "False\n",
      "True\n",
      "True\n"
     ]
    }
   ],
   "source": [
    "mystr = 'hello world'\n",
    "print(mystr.islower())\n",
    "\n",
    "mystr = 'Hello world'  # H is capital\n",
    "print(mystr.islower())\n",
    "\n",
    "mystr = 'python is #1'\n",
    "print(mystr.islower())\n",
    "\n",
    "mystr='#1?><~()+=*-+./\\[] this is lower'\n",
    "print(mystr.islower())"
   ]
  },
  {
   "cell_type": "markdown",
   "id": "33185d64",
   "metadata": {},
   "source": [
    "# isupper() \n",
    "### It returns True if all characters are uppercase and False even if one character is not in uppercase.\n",
    "### Symblos and numbers are not affected by this function\n",
    "### Syntax: - str.isupper()"
   ]
  },
  {
   "cell_type": "code",
   "execution_count": 16,
   "id": "b90ab354",
   "metadata": {},
   "outputs": [
    {
     "name": "stdout",
     "output_type": "stream",
     "text": [
      "True\n",
      "False\n",
      "False\n",
      "True\n",
      "False\n",
      "True\n"
     ]
    }
   ],
   "source": [
    " mystr = 'HELLO WORLD'\n",
    "print(mystr.isupper())\n",
    "\n",
    "mystr = 'Hello World'\n",
    "print(mystr.isupper())\n",
    "\n",
    "mystr = 'hello world'\n",
    "print(mystr.isupper())\n",
    "\n",
    "mystr = 'PYTHON IS #1'\n",
    "print(mystr.isupper())\n",
    "\n",
    "mystr = '#1?><~()+=*-+./\\[]'\n",
    "print(mystr.isupper())\n",
    "\n",
    "mystr = '#1?~()+=*-+./\\[] THIS IS UPPER CASE'\n",
    "print(mystr.isupper())"
   ]
  },
  {
   "cell_type": "markdown",
   "id": "d7ada195",
   "metadata": {},
   "source": [
    "# istitle()\n",
    "### It returns True if the first character of each word is upper case and the rest is lower case.\n",
    "### The symbols and numbers are ignored.\n",
    "### syntax : - str.istitle()"
   ]
  },
  {
   "cell_type": "code",
   "execution_count": 17,
   "id": "c3414727",
   "metadata": {},
   "outputs": [
    {
     "name": "stdout",
     "output_type": "stream",
     "text": [
      "True\n",
      "False\n",
      "False\n",
      "False\n",
      "True\n"
     ]
    }
   ],
   "source": [
    "greet='Hello World'\n",
    "print(greet.istitle())\n",
    "\n",
    "greet='Hello WORLD'\n",
    "print(greet.istitle())\n",
    "\n",
    "greet='hello world'\n",
    "print(greet.istitle())\n",
    "\n",
    "greet='HelloWorld'\n",
    "print(greet.istitle())\n",
    "\n",
    "s='Python Is A Programming Language'\n",
    "print(s.istitle())\n"
   ]
  },
  {
   "cell_type": "markdown",
   "id": "65446809",
   "metadata": {},
   "source": [
    "### If the first character is a number or special symbol, then it will be treated as a capital letter."
   ]
  },
  {
   "cell_type": "code",
   "execution_count": 18,
   "id": "d71b9c5f",
   "metadata": {},
   "outputs": [
    {
     "data": {
      "text/plain": [
       "True"
      ]
     },
     "execution_count": 18,
     "metadata": {},
     "output_type": "execute_result"
    }
   ],
   "source": [
    "addr='#1 Harbor Side'\n",
    "addr.istitle()"
   ]
  },
  {
   "cell_type": "markdown",
   "id": "b8ffccf0",
   "metadata": {},
   "source": [
    "### An empty string, numeric string, or a string with only symbols are not considered titlecased.\n",
    "\n"
   ]
  },
  {
   "cell_type": "code",
   "execution_count": 19,
   "id": "92e92fa4",
   "metadata": {},
   "outputs": [
    {
     "name": "stdout",
     "output_type": "stream",
     "text": [
      "False\n",
      "False\n",
      "False\n"
     ]
    }
   ],
   "source": [
    "empt=''\n",
    "print(empt.istitle())\n",
    "\n",
    "numstr='100'\n",
    "print(numstr.istitle())\n",
    "\n",
    "usd='$'\n",
    "print(usd.istitle())\n"
   ]
  },
  {
   "cell_type": "markdown",
   "id": "15e233d4",
   "metadata": {},
   "source": [
    "### istitle() method is used with the title() method to check a string before converting it in a titlecased"
   ]
  },
  {
   "cell_type": "code",
   "execution_count": 20,
   "id": "a5de7c78",
   "metadata": {},
   "outputs": [
    {
     "name": "stdout",
     "output_type": "stream",
     "text": [
      "hello all\n",
      "Converted to TitleCase Hello All\n",
      "You entered a TitleCase string\n"
     ]
    }
   ],
   "source": [
    "ustr=input()\n",
    "if not ustr.istitle():\n",
    "   ustr = ustr.title()\n",
    "   print('Converted to TitleCase', ustr)\n",
    "    \n",
    "print('You entered a TitleCase string')"
   ]
  },
  {
   "cell_type": "markdown",
   "id": "0314aa81",
   "metadata": {},
   "source": [
    "# isspace()\n",
    "###  returns True if all the characters of the given string are whitespaces. It returns False even if one character is not whitespace.\n",
    "### One or more spaces, tab are called whitespace character.\n",
    "### Syntax: - str.isspace()"
   ]
  },
  {
   "cell_type": "code",
   "execution_count": 21,
   "id": "c6d31c6b",
   "metadata": {},
   "outputs": [
    {
     "name": "stdout",
     "output_type": "stream",
     "text": [
      "True\n",
      "True\n",
      "True\n",
      "True\n",
      "False\n",
      "False\n"
     ]
    }
   ],
   "source": [
    "mystr = ' '\n",
    "print(mystr.isspace())\n",
    "\n",
    "mystr = '    '\n",
    "print(mystr.isspace())\n",
    "\n",
    "mystr = '\\n\\t '\n",
    "print(mystr.isspace())\n",
    "\n",
    "mystr = '\\t\\t '\n",
    "print(mystr.isspace())\n",
    "\n",
    "mystr = 'HelloWorld'\n",
    "print(mystr.isspace())\n",
    "\n",
    "mystr = 'Hello World'\n",
    "print(mystr.isspace())"
   ]
  },
  {
   "cell_type": "code",
   "execution_count": null,
   "id": "4cf7aa0a",
   "metadata": {},
   "outputs": [],
   "source": []
  }
 ],
 "metadata": {
  "kernelspec": {
   "display_name": "Python 3 (ipykernel)",
   "language": "python",
   "name": "python3"
  },
  "language_info": {
   "codemirror_mode": {
    "name": "ipython",
    "version": 3
   },
   "file_extension": ".py",
   "mimetype": "text/x-python",
   "name": "python",
   "nbconvert_exporter": "python",
   "pygments_lexer": "ipython3",
   "version": "3.9.7"
  }
 },
 "nbformat": 4,
 "nbformat_minor": 5
}
