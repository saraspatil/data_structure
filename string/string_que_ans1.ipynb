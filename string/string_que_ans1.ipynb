{
 "cells": [
  {
   "cell_type": "markdown",
   "id": "b819b9c2",
   "metadata": {},
   "source": [
    "### Q1. Write a program to display the largest word from the string."
   ]
  },
  {
   "cell_type": "code",
   "execution_count": 1,
   "id": "d4a1bb86",
   "metadata": {},
   "outputs": [
    {
     "name": "stdout",
     "output_type": "stream",
     "text": [
      "Enter your string: python is interpreted language\n",
      "largest word from string is:  interpreted\n"
     ]
    }
   ],
   "source": [
    "str = input('Enter your string: ')\n",
    "split_str = str.split(' ')\n",
    "\n",
    "max = 0\n",
    "l_string = ''\n",
    "for i in split_str:\n",
    "    if len(i)> max:\n",
    "        l_string=i\n",
    "        max=len(i)\n",
    "print('largest word from string is: ',l_string)\n",
    "    "
   ]
  },
  {
   "cell_type": "markdown",
   "id": "fc4241dd",
   "metadata": {},
   "source": [
    "### Q2. Write a program to accept a string and display it in upper case."
   ]
  },
  {
   "cell_type": "code",
   "execution_count": 2,
   "id": "f28e7956",
   "metadata": {},
   "outputs": [
    {
     "name": "stdout",
     "output_type": "stream",
     "text": [
      "Enter your string: python is interpreted language\n",
      "sting in upper case: PYTHON IS INTERPRETED LANGUAGE\n"
     ]
    }
   ],
   "source": [
    "str = input('Enter your string: ')\n",
    "print('sting in upper case:',str.upper())"
   ]
  },
  {
   "cell_type": "markdown",
   "id": "53d19822",
   "metadata": {},
   "source": [
    "### Q3. Write a program to display the unique words from the string."
   ]
  },
  {
   "cell_type": "code",
   "execution_count": 3,
   "id": "1e465b3a",
   "metadata": {},
   "outputs": [
    {
     "name": "stdout",
     "output_type": "stream",
     "text": [
      "Enter any String :some many many some\n",
      "String with unique words are :  some many\n"
     ]
    }
   ],
   "source": [
    "\n",
    "str=input(\"Enter any String :\")\n",
    "L=str.split( )\n",
    "list=[]\n",
    "for i in L:\n",
    "     if i not in list:\n",
    "         list.append(i)\n",
    "str=\"\"\n",
    "for i in list:\n",
    "     str=str+\" \"+i\n",
    "print(\"String with unique words are :\",str)"
   ]
  },
  {
   "cell_type": "markdown",
   "id": "9f83cbc7",
   "metadata": {},
   "source": [
    "### Q4. Write a program to accept a string and display the ascii value of each character."
   ]
  },
  {
   "cell_type": "code",
   "execution_count": 4,
   "id": "9ca015fc",
   "metadata": {},
   "outputs": [
    {
     "name": "stdout",
     "output_type": "stream",
     "text": [
      "Enter any String :python\n",
      "The ascii value of p is:  112\n",
      "The ascii value of y is:  121\n",
      "The ascii value of t is:  116\n",
      "The ascii value of h is:  104\n",
      "The ascii value of o is:  111\n",
      "The ascii value of n is:  110\n"
     ]
    }
   ],
   "source": [
    "str=input(\"Enter any String :\")\n",
    "for i in str:\n",
    "    print('The ascii value of',i,'is: ',ord(i))\n"
   ]
  },
  {
   "cell_type": "markdown",
   "id": "ace7761a",
   "metadata": {},
   "source": [
    "### Q5. Write a program to accept a string and replace all spaces by ‘#’ symbol."
   ]
  },
  {
   "cell_type": "code",
   "execution_count": 5,
   "id": "982957a4",
   "metadata": {},
   "outputs": [
    {
     "name": "stdout",
     "output_type": "stream",
     "text": [
      "Enter any String :more practice high sallery\n",
      "After replacing space by # :  more#practice#high#sallery\n"
     ]
    }
   ],
   "source": [
    "str=input(\"Enter any String :\")\n",
    "new_str=''\n",
    "for i in str:\n",
    "    if i.isspace():\n",
    "        new_str=new_str + '#'\n",
    "        \n",
    "    else:\n",
    "        new_str=new_str + i\n",
    "print('After replacing space by # : ',new_str)"
   ]
  },
  {
   "cell_type": "markdown",
   "id": "780e7da0",
   "metadata": {},
   "source": [
    "### Q6. Write a program to accept two strings from the user and display the common words.(Ignore case)\n"
   ]
  },
  {
   "cell_type": "code",
   "execution_count": 6,
   "id": "1008bc53",
   "metadata": {},
   "outputs": [
    {
     "name": "stdout",
     "output_type": "stream",
     "text": [
      "Enter first String :python is interpreted language\n",
      "Enter second String :python is very easy\n",
      "python\n",
      "is\n"
     ]
    }
   ],
   "source": [
    "str1=input(\"Enter first String :\")\n",
    "str2=input(\"Enter second String :\")\n",
    "split_str1 = str1.split(' ')\n",
    "split_str2 = str2.split(' ')\n",
    "for i in split_str1:\n",
    "    if i in split_str2:\n",
    "        print(i)\n"
   ]
  },
  {
   "cell_type": "markdown",
   "id": "106afd8d",
   "metadata": {},
   "source": [
    "### Q7. Write a program to accept a string and count the frequency of each vowel."
   ]
  },
  {
   "cell_type": "code",
   "execution_count": 7,
   "id": "e4b8ae05",
   "metadata": {},
   "outputs": [
    {
     "name": "stdout",
     "output_type": "stream",
     "text": [
      "Enter any stringmy name is saras\n",
      "frequency of vowel 'a' is : 2\n",
      "frequency of vowel 'e' is : 4\n",
      "frequency of vowel 'i' is : 2\n",
      "frequency of vowel 'o' is : 1\n",
      "frequency of vowel 'u' is : 1\n"
     ]
    }
   ],
   "source": [
    "str = input('Enter any string')\n",
    "\n",
    "print(\"frequency of vowel 'a' is :\",str1.count('a'))\n",
    "print(\"frequency of vowel 'e' is :\",str1.count('e'))\n",
    "print(\"frequency of vowel 'i' is :\",str1.count('i'))\n",
    "print(\"frequency of vowel 'o' is :\",str1.count('o'))\n",
    "print(\"frequency of vowel 'u' is :\",str1.count('u'))"
   ]
  },
  {
   "cell_type": "markdown",
   "id": "1ab441ae",
   "metadata": {},
   "source": [
    "### Q8. Write a program to display the smallest word from the string."
   ]
  },
  {
   "cell_type": "code",
   "execution_count": 8,
   "id": "6a01eef7",
   "metadata": {},
   "outputs": [
    {
     "name": "stdout",
     "output_type": "stream",
     "text": [
      "Enter any string : numpy is easy\n",
      "The smallest word from the string is :  is\n"
     ]
    }
   ],
   "source": [
    "str = input('Enter any string : ')\n",
    "min = 50\n",
    "n_string = ''\n",
    "split_str = str.split(' ')\n",
    "for i in split_str:\n",
    "    if len(i)< min:\n",
    "        n_string=i\n",
    "        min = len(i)\n",
    "print('The smallest word from the string is : ',n_string)\n",
    "        "
   ]
  },
  {
   "cell_type": "markdown",
   "id": "c42f885c",
   "metadata": {},
   "source": [
    "### Q9. Write a program to accept a string and display the string in Title case. (first alphabet of each word in upper case)"
   ]
  },
  {
   "cell_type": "code",
   "execution_count": 9,
   "id": "d5f06895",
   "metadata": {},
   "outputs": [
    {
     "name": "stdout",
     "output_type": "stream",
     "text": [
      "Enter any string : machine learning\n",
      "string in title case:  Machine Learning\n"
     ]
    }
   ],
   "source": [
    "str = input('Enter any string : ')\n",
    "print('string in title case: ',str.title())"
   ]
  },
  {
   "cell_type": "markdown",
   "id": "bc3e6fb7",
   "metadata": {},
   "source": [
    "### Q10. Write a program to accept a string and display the string with changed case.(Change upper case alphabet to lower case and vice versa)"
   ]
  },
  {
   "cell_type": "code",
   "execution_count": 10,
   "id": "7ef9ac0b",
   "metadata": {},
   "outputs": [
    {
     "name": "stdout",
     "output_type": "stream",
     "text": [
      "Enter any string : i lOVE pYthon\n",
      "upper to lower and vice versa :  I Love PyTHON\n"
     ]
    }
   ],
   "source": [
    "str = input('Enter any string : ')\n",
    "print('upper to lower and vice versa : ',str.swapcase())"
   ]
  },
  {
   "cell_type": "code",
   "execution_count": null,
   "id": "c9a30305",
   "metadata": {},
   "outputs": [],
   "source": []
  }
 ],
 "metadata": {
  "kernelspec": {
   "display_name": "Python 3 (ipykernel)",
   "language": "python",
   "name": "python3"
  },
  "language_info": {
   "codemirror_mode": {
    "name": "ipython",
    "version": 3
   },
   "file_extension": ".py",
   "mimetype": "text/x-python",
   "name": "python",
   "nbconvert_exporter": "python",
   "pygments_lexer": "ipython3",
   "version": "3.9.7"
  }
 },
 "nbformat": 4,
 "nbformat_minor": 5
}
