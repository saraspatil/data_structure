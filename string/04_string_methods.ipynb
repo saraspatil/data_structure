{
 "cells": [
  {
   "cell_type": "markdown",
   "id": "0a7e01b4",
   "metadata": {},
   "source": [
    "# count()\n",
    "### The count() method searches (case-sensitive) the specified substring in the given string and returns an integer indicating occurrences of the substring. By default, the counting begins from 0 index till the end of the string.\n",
    "### Syntax: - str.count(substring, start, end)\n",
    "### Parameters: \n",
    "#### substring: A string whose count has to be found.\n",
    "#### start: (Optional) The starting index of the string from where the search has to begin . Default is 0.\n",
    "#### end: (Optional) The ending index of the string where the search has to end. Default is the end of the string."
   ]
  },
  {
   "cell_type": "code",
   "execution_count": 1,
   "id": "5a8d72de",
   "metadata": {},
   "outputs": [],
   "source": [
    "s = 'More practice, more accuracy'"
   ]
  },
  {
   "cell_type": "code",
   "execution_count": 2,
   "id": "bdd642f9",
   "metadata": {},
   "outputs": [
    {
     "data": {
      "text/plain": [
       "1"
      ]
     },
     "execution_count": 2,
     "metadata": {},
     "output_type": "execute_result"
    }
   ],
   "source": [
    "s.count('More') # case sensitive"
   ]
  },
  {
   "cell_type": "code",
   "execution_count": 3,
   "id": "d5224efa",
   "metadata": {},
   "outputs": [
    {
     "data": {
      "text/plain": [
       "0"
      ]
     },
     "execution_count": 3,
     "metadata": {},
     "output_type": "execute_result"
    }
   ],
   "source": [
    "s.count('z')  # if the specified substring is not present in the given string,it returns zero."
   ]
  },
  {
   "cell_type": "code",
   "execution_count": 4,
   "id": "a3caef4d",
   "metadata": {},
   "outputs": [
    {
     "data": {
      "text/plain": [
       "3"
      ]
     },
     "execution_count": 4,
     "metadata": {},
     "output_type": "execute_result"
    }
   ],
   "source": [
    "s.count('e')"
   ]
  },
  {
   "cell_type": "code",
   "execution_count": 5,
   "id": "4951fdb1",
   "metadata": {},
   "outputs": [
    {
     "data": {
      "text/plain": [
       "2"
      ]
     },
     "execution_count": 5,
     "metadata": {},
     "output_type": "execute_result"
    }
   ],
   "source": [
    "s.count('e',5) # starts seaching from index 5 till the ends of the string. "
   ]
  },
  {
   "cell_type": "code",
   "execution_count": 6,
   "id": "b7c1733f",
   "metadata": {},
   "outputs": [
    {
     "data": {
      "text/plain": [
       "1"
      ]
     },
     "execution_count": 6,
     "metadata": {},
     "output_type": "execute_result"
    }
   ],
   "source": [
    "s.count('e',5,15)  # starts seaching from index 5 till the index 15 which is excluded."
   ]
  },
  {
   "cell_type": "markdown",
   "id": "0fc816ac",
   "metadata": {},
   "source": [
    "# endswith()\n",
    "### Returns True if the string ends with the specified suffix, otherwise returns False.\n",
    "### The endswith() function will always return True if an empty string is passed as a parameter.\n",
    "### Synatx: str.endswith(suffix, start, end)\n",
    "### Parameters:\n",
    "#### suffix : (Required) String or tuple of strings to look for.\n",
    "#### start : (Optional) Starting index at which search should start. Defaults to 0.\n",
    "#### end : (Optional) Ending index at which the search should end. Defaults to the last index of a string."
   ]
  },
  {
   "cell_type": "code",
   "execution_count": 7,
   "id": "8a48908c",
   "metadata": {},
   "outputs": [
    {
     "name": "stdout",
     "output_type": "stream",
     "text": [
      "True\n",
      "True\n",
      "True\n",
      "True\n",
      "False\n"
     ]
    }
   ],
   "source": [
    "mystr = 'Python is a  programming language.'\n",
    "\n",
    "print(mystr.endswith('.')) # returns True\n",
    "print(mystr.endswith('age.')) # returns True\n",
    "print(mystr.endswith('language.')) # returns True\n",
    "print(mystr.endswith(' programming language.')) # returns True\n",
    "print(mystr.endswith('age')) # returns False, . is missing"
   ]
  },
  {
   "cell_type": "code",
   "execution_count": 8,
   "id": "999886b0",
   "metadata": {},
   "outputs": [
    {
     "name": "stdout",
     "output_type": "stream",
     "text": [
      "False\n",
      "True\n",
      "True\n",
      "True\n"
     ]
    }
   ],
   "source": [
    "mystr = 'Hello World'\n",
    "print(mystr.endswith('h', 0, 1)) # is 'H' endswith 'h'? False\n",
    "print(mystr.endswith('H', 0, 1)) # is 'H' endswith 'H'? True\n",
    "print(mystr.endswith('e', 0, 2)) # is 'He' endswith 'e'? True\n",
    "print(mystr.endswith('o', 0, 5)) # is 'Hello' endswith 'o'? True"
   ]
  },
  {
   "cell_type": "markdown",
   "id": "3d94617a",
   "metadata": {},
   "source": [
    "In the above example, the mystr.endswith('h', 0, 1) returns False because it performs case-sensitive search.\n",
    "The mystr.endswith('e', 0, 2) searching starts from 0 and ends index 1 (ending index -1), \n",
    "so it consider 'He' string which ends with 'e', so returns True."
   ]
  },
  {
   "cell_type": "code",
   "execution_count": 9,
   "id": "cd30145b",
   "metadata": {},
   "outputs": [
    {
     "name": "stdout",
     "output_type": "stream",
     "text": [
      "True\n",
      "False\n",
      "False\n",
      "True\n"
     ]
    }
   ],
   "source": [
    "mystr = 'Tutorials Teacher is a free online tutorials website'\n",
    "print(mystr.endswith(('Tutorials','free','website'))) # returns True\n",
    "print(mystr.endswith(('Tutorials','free')))  # returns False\n",
    "print(mystr.endswith(('Tutorials','coding'), 7, 11)) # returns False\n",
    "print(mystr.endswith(('Tutorials','coding'), 0, 9)) # returns True"
   ]
  },
  {
   "cell_type": "markdown",
   "id": "c2bf4138",
   "metadata": {},
   "source": [
    "n the above example, the mystr.endswith(('Tutorials','free','website')) checks whether a string ends with any element of the specified tuple ('Tutorials', 'free', 'website'). mystr ends with 'website', so it returns True. The mystr.endswith(('Tutorials','coding'), 7, 11) checks suffix from starting index 7 to ending index 10 (11-1)."
   ]
  },
  {
   "cell_type": "markdown",
   "id": "f160b037",
   "metadata": {},
   "source": [
    "### The endswith() function will always return True if an empty string is passed as a parameter."
   ]
  },
  {
   "cell_type": "code",
   "execution_count": 10,
   "id": "d30eedf1",
   "metadata": {},
   "outputs": [
    {
     "name": "stdout",
     "output_type": "stream",
     "text": [
      "True\n",
      "True\n"
     ]
    }
   ],
   "source": [
    "mystr = 'Hello World'\n",
    "print(mystr.endswith(''))\n",
    "print(mystr.endswith('', 1, 3))"
   ]
  },
  {
   "cell_type": "markdown",
   "id": "b8b8d89f",
   "metadata": {},
   "source": [
    "# startswith()\n",
    "### The startswith() method returns True if a string starts with the specified prefix. If not, it returns False. A tuple of prefixes can also be specified to look for.\n",
    "### The endswith() function will always return True if an empty string is passed as a parameter.\n",
    "### Synatx: - str.startswith(prefix, start, end)\n",
    "### Parameters:\n",
    "#### prefix : Required. String or tuple of strings to look for.\n",
    "#### start : Optional. The index position of the character in the string from which the search should start.\n",
    "#### end : Optional. The index position of the character in the string at which the search should end."
   ]
  },
  {
   "cell_type": "code",
   "execution_count": 11,
   "id": "79091948",
   "metadata": {},
   "outputs": [
    {
     "name": "stdout",
     "output_type": "stream",
     "text": [
      "True\n",
      "True\n",
      "True\n",
      "True\n",
      "True\n",
      "True\n"
     ]
    }
   ],
   "source": [
    "mystr = 'Hello World'\n",
    "\n",
    "print(mystr.startswith('')) # always returns True\n",
    "print(mystr.startswith('H'))\n",
    "print(mystr.startswith('He'))\n",
    "print(mystr.startswith('Hello'))\n",
    "print(mystr.startswith('Hello W'))\n",
    "print(mystr.startswith('Hello World'))"
   ]
  },
  {
   "cell_type": "code",
   "execution_count": 12,
   "id": "04188216",
   "metadata": {},
   "outputs": [
    {
     "name": "stdout",
     "output_type": "stream",
     "text": [
      "True\n",
      "True\n",
      "True\n",
      "True\n"
     ]
    }
   ],
   "source": [
    "mystr = 'Hello World'\n",
    "\n",
    "print(mystr.startswith('e', 1))  # starts from 'H->ello World'\n",
    "print(mystr.startswith('ll', 2)) # starts from 'He->llo World'\n",
    "print(mystr.startswith('World', 6))  # starts from 'Hello ->World'\n",
    "print(mystr.startswith('Wor', 6, 9)) # starts from 'Hello ->World' "
   ]
  },
  {
   "cell_type": "code",
   "execution_count": 13,
   "id": "011fbc8d",
   "metadata": {},
   "outputs": [
    {
     "name": "stdout",
     "output_type": "stream",
     "text": [
      "True\n",
      "False\n"
     ]
    }
   ],
   "source": [
    "# passing a tuple\n",
    "langs = 'Python is a programming language'\n",
    "print(langs.startswith(('Python','C#','Java'))) # return True\n",
    "\n",
    "greet = 'Hi'\n",
    "print(greet.startswith(('Hello','Hey',\"What's up?\"))) # returns False"
   ]
  },
  {
   "cell_type": "markdown",
   "id": "2c4118d5",
   "metadata": {},
   "source": [
    "# find()\n",
    "### The find() method returns the index of the first occurence of a substring in the given string (case-sensitive).\n",
    "### If the substring is not found it returns -1.\n",
    "### Syntax: - str.find(substr, start, end)\n",
    "### Parameters:\n",
    "#### substr: (Required) The substring whose index has to be found.\n",
    "#### start: (Optional) The starting index position from where the searching should start in the string. Default is 0.\n",
    "#### end: (Optional) The ending index position untill the searching should happen. Default is end of the string.\n"
   ]
  },
  {
   "cell_type": "code",
   "execution_count": 14,
   "id": "92df1a38",
   "metadata": {},
   "outputs": [
    {
     "name": "stdout",
     "output_type": "stream",
     "text": [
      "Index of 'H':  0\n",
      "Index of 'h':  -1\n",
      "Index of 'e':  1\n",
      "Index of 'World':  6\n"
     ]
    }
   ],
   "source": [
    "greet='Hello World!'\n",
    "print(\"Index of 'H': \", greet.find('H'))\n",
    "print(\"Index of 'h': \", greet.find('h')) # returns -1 as 'h' no found\n",
    "print(\"Index of 'e': \", greet.find('e'))\n",
    "print(\"Index of 'World': \", greet.find('World'))"
   ]
  },
  {
   "cell_type": "code",
   "execution_count": 15,
   "id": "956f9c08",
   "metadata": {},
   "outputs": [
    {
     "name": "stdout",
     "output_type": "stream",
     "text": [
      "27\n",
      "27\n",
      "32\n",
      "-1\n"
     ]
    }
   ],
   "source": [
    "mystr='tutorialsteacher is a free tutorials website'\n",
    "print(mystr.find('tut', 10))# search starts from 10th index\n",
    "print(mystr.find('tutorials',10))\n",
    "print(mystr.find('ials',10))\n",
    "print(mystr.find('tutorials', 1, 26)) # searches between 1st and 26th index"
   ]
  },
  {
   "cell_type": "markdown",
   "id": "29e1f44d",
   "metadata": {},
   "source": [
    "# index()\n",
    "### The index() method returns the index of the first occurence of a substring in the given string (case-sensitive).\n",
    "### If the substring is not found ,then it raises an exception..\n",
    "### Syntax: - str.index(substr, start, end)\n",
    "### Parameters:\n",
    "#### substr: (Required) The substring whose index has to be found.\n",
    "#### start: (Optional) The starting index position from where the searching should start in the string. Default is 0.\n",
    "#### end: (Optional) The ending index position untill the searching should happen. Default is end of the string."
   ]
  },
  {
   "cell_type": "code",
   "execution_count": 16,
   "id": "d48b0400",
   "metadata": {},
   "outputs": [
    {
     "name": "stdout",
     "output_type": "stream",
     "text": [
      "Index of H:  0\n",
      "Index of e:  1\n",
      "Index of l:  2\n",
      "Index of World:  6\n"
     ]
    }
   ],
   "source": [
    "greet='Hello World!'\n",
    "print('Index of H: ', greet.index('H'))\n",
    "print('Index of e: ', greet.index('e'))\n",
    "print('Index of l: ', greet.index('l'))\n",
    "print('Index of World: ', greet.index('World'))"
   ]
  },
  {
   "cell_type": "markdown",
   "id": "ec04ec94",
   "metadata": {},
   "source": [
    "### The index() method performs case-sensitive search. It throws ValueError if a substring not found."
   ]
  },
  {
   "cell_type": "code",
   "execution_count": 17,
   "id": "cad09f7a",
   "metadata": {},
   "outputs": [
    {
     "ename": "ValueError",
     "evalue": "substring not found",
     "output_type": "error",
     "traceback": [
      "\u001b[1;31m---------------------------------------------------------------------------\u001b[0m",
      "\u001b[1;31mValueError\u001b[0m                                Traceback (most recent call last)",
      "\u001b[1;32m~\\AppData\\Local\\Temp/ipykernel_10896/1782345558.py\u001b[0m in \u001b[0;36m<module>\u001b[1;34m\u001b[0m\n\u001b[0;32m      1\u001b[0m \u001b[0mgreet\u001b[0m\u001b[1;33m=\u001b[0m\u001b[1;34m'Hello World'\u001b[0m\u001b[1;33m\u001b[0m\u001b[1;33m\u001b[0m\u001b[0m\n\u001b[1;32m----> 2\u001b[1;33m \u001b[0mprint\u001b[0m\u001b[1;33m(\u001b[0m\u001b[0mgreet\u001b[0m\u001b[1;33m.\u001b[0m\u001b[0mindex\u001b[0m\u001b[1;33m(\u001b[0m\u001b[1;34m'h'\u001b[0m\u001b[1;33m)\u001b[0m\u001b[1;33m)\u001b[0m \u001b[1;31m# throws error: substring not found\u001b[0m\u001b[1;33m\u001b[0m\u001b[1;33m\u001b[0m\u001b[0m\n\u001b[0m\u001b[0;32m      3\u001b[0m \u001b[0mprint\u001b[0m\u001b[1;33m(\u001b[0m\u001b[0mgreet\u001b[0m\u001b[1;33m.\u001b[0m\u001b[0mindex\u001b[0m\u001b[1;33m(\u001b[0m\u001b[1;34m'hello'\u001b[0m\u001b[1;33m)\u001b[0m\u001b[1;33m)\u001b[0m \u001b[1;31m# throws error\u001b[0m\u001b[1;33m\u001b[0m\u001b[1;33m\u001b[0m\u001b[0m\n",
      "\u001b[1;31mValueError\u001b[0m: substring not found"
     ]
    }
   ],
   "source": [
    "greet='Hello World'\n",
    "print(greet.index('h')) # throws error: substring not found \n",
    "print(greet.index('hello')) # throws error"
   ]
  },
  {
   "cell_type": "code",
   "execution_count": 18,
   "id": "6ea4485d",
   "metadata": {},
   "outputs": [
    {
     "name": "stdout",
     "output_type": "stream",
     "text": [
      "27\n"
     ]
    }
   ],
   "source": [
    "mystr='tutorialsteacher is a free tutorials website'\n",
    "print(mystr.index('tutorials',10)) # search starts from 10th index"
   ]
  },
  {
   "cell_type": "markdown",
   "id": "82a34e88",
   "metadata": {},
   "source": [
    "# rfind() \n",
    "### The rfind() method returns the highest index of the specified substring (the last occurrence of the substring) in the given string. If the substring is not found, then it returns -1.\n",
    "### Syntax: str.rfind(substr, start, end)\n",
    "### Parameters:\n",
    "#### substr: (Required) The substring whose index of the last occurence needs to be found.\n",
    "#### start: (Optional) The starting index position from where the search should start. Default is 0.\n",
    "#### end: (Optional) The ending index position till where the search should end. Default is the end of the string."
   ]
  },
  {
   "cell_type": "code",
   "execution_count": 19,
   "id": "f7391668",
   "metadata": {},
   "outputs": [
    {
     "name": "stdout",
     "output_type": "stream",
     "text": [
      "Index of H:  0\n",
      "Index of o:  7\n",
      "Index of l:  9\n",
      "Index of World:  6\n"
     ]
    }
   ],
   "source": [
    "greet = 'Hello World!'\n",
    "print('Index of H: ', greet.rfind('H'))\n",
    "print('Index of o: ', greet.rfind('o'))\n",
    "print('Index of l: ', greet.rfind('l'))\n",
    "print('Index of World: ', greet.rfind('World'))"
   ]
  },
  {
   "cell_type": "markdown",
   "id": "d60a3444",
   "metadata": {},
   "source": [
    "### The rfind() method performs case-sensitive search. It returns -1 if a substring is not found."
   ]
  },
  {
   "cell_type": "code",
   "execution_count": 20,
   "id": "6d892316",
   "metadata": {},
   "outputs": [
    {
     "name": "stdout",
     "output_type": "stream",
     "text": [
      "0\n",
      "-1\n",
      "-1\n"
     ]
    }
   ],
   "source": [
    "greet='Hello World'\n",
    "\n",
    "print(greet.rfind('H')) \n",
    "print(greet.rfind('h')) \n",
    "print(greet.rfind('hello')) "
   ]
  },
  {
   "cell_type": "code",
   "execution_count": 21,
   "id": "96573f9d",
   "metadata": {},
   "outputs": [
    {
     "name": "stdout",
     "output_type": "stream",
     "text": [
      "7\n",
      "4\n",
      "4\n",
      "7\n"
     ]
    }
   ],
   "source": [
    "greet ='Hello World'\n",
    "print(greet.rfind('o', 0, 10)) # start searching from 0 till 9th index\n",
    "print(greet.rfind('o', 0, 5)) # start searching from 0 till 4th index\n",
    "\n",
    "print(greet.rfind('o', -11, -6)) # start searching from -11th till -6th index\n",
    "print(greet.rfind('o', -11, -3))# start searching from -11th till -3th index"
   ]
  },
  {
   "cell_type": "markdown",
   "id": "3b757e5a",
   "metadata": {},
   "source": [
    "# rindex()\n",
    "### It returns the index of the last occurence of a substring in the given string. \n",
    "### it raises ValueError if the substring is not found.\n",
    "### Syntax: - str.rindex(substr, start, end)\n",
    "### Parameters:\n",
    "#### substr: (Required) The substring whose index of the last occurence needs to be found.\n",
    "#### start: (Optional) The starting index position from where the search should start. Default is 0.\n",
    "#### end: (Optional) The ending index position till where the search should end. Default is the end of the string."
   ]
  },
  {
   "cell_type": "code",
   "execution_count": 22,
   "id": "c2ff8197",
   "metadata": {},
   "outputs": [
    {
     "name": "stdout",
     "output_type": "stream",
     "text": [
      "Index of H:  0\n",
      "Index of o:  7\n",
      "Index of l:  9\n",
      "Index of World:  6\n"
     ]
    }
   ],
   "source": [
    "greet = 'Hello World!'\n",
    "print('Index of H: ', greet.rfind('H'))\n",
    "print('Index of o: ', greet.rindex('o'))\n",
    "print('Index of l: ', greet.rindex('l'))\n",
    "print('Index of World: ', greet.rindex('World'))"
   ]
  },
  {
   "cell_type": "code",
   "execution_count": 23,
   "id": "dc03bb1c",
   "metadata": {},
   "outputs": [
    {
     "name": "stdout",
     "output_type": "stream",
     "text": [
      "7\n",
      "4\n",
      "4\n",
      "7\n"
     ]
    }
   ],
   "source": [
    "greet ='Hello World'\n",
    "print(greet.rindex('o', 0, 10)) # start searching from 0 till 9th index\n",
    "print(greet.rindex('o', 0, 5)) # start searching from 0 till 4th index\n",
    "\n",
    "print(greet.rindex('o', -11, -6)) # start searching from -11th till -6th index\n",
    "print(greet.rindex('o', -11, -3))# start searching from -11th till -3th index"
   ]
  },
  {
   "cell_type": "markdown",
   "id": "e1a67e1a",
   "metadata": {},
   "source": [
    "### It raises ValueError if a substring is not found."
   ]
  },
  {
   "cell_type": "code",
   "execution_count": 24,
   "id": "becc0944",
   "metadata": {},
   "outputs": [
    {
     "ename": "ValueError",
     "evalue": "substring not found",
     "output_type": "error",
     "traceback": [
      "\u001b[1;31m---------------------------------------------------------------------------\u001b[0m",
      "\u001b[1;31mValueError\u001b[0m                                Traceback (most recent call last)",
      "\u001b[1;32m~\\AppData\\Local\\Temp/ipykernel_10896/2923356322.py\u001b[0m in \u001b[0;36m<module>\u001b[1;34m\u001b[0m\n\u001b[0;32m      1\u001b[0m \u001b[0mgreet\u001b[0m\u001b[1;33m=\u001b[0m\u001b[1;34m'Hello World'\u001b[0m\u001b[1;33m\u001b[0m\u001b[1;33m\u001b[0m\u001b[0m\n\u001b[1;32m----> 2\u001b[1;33m \u001b[0mprint\u001b[0m\u001b[1;33m(\u001b[0m\u001b[0mgreet\u001b[0m\u001b[1;33m.\u001b[0m\u001b[0mrindex\u001b[0m\u001b[1;33m(\u001b[0m\u001b[1;34m'h'\u001b[0m\u001b[1;33m)\u001b[0m\u001b[1;33m)\u001b[0m\u001b[1;33m\u001b[0m\u001b[1;33m\u001b[0m\u001b[0m\n\u001b[0m",
      "\u001b[1;31mValueError\u001b[0m: substring not found"
     ]
    }
   ],
   "source": [
    "greet='Hello World'\n",
    "print(greet.rindex('h')) "
   ]
  },
  {
   "cell_type": "code",
   "execution_count": null,
   "id": "87fc80ed",
   "metadata": {},
   "outputs": [],
   "source": []
  }
 ],
 "metadata": {
  "kernelspec": {
   "display_name": "Python 3 (ipykernel)",
   "language": "python",
   "name": "python3"
  },
  "language_info": {
   "codemirror_mode": {
    "name": "ipython",
    "version": 3
   },
   "file_extension": ".py",
   "mimetype": "text/x-python",
   "name": "python",
   "nbconvert_exporter": "python",
   "pygments_lexer": "ipython3",
   "version": "3.9.7"
  }
 },
 "nbformat": 4,
 "nbformat_minor": 5
}
