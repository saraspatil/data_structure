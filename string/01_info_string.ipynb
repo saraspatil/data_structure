{
 "cells": [
  {
   "cell_type": "markdown",
   "id": "d5dc3823",
   "metadata": {},
   "source": [
    "## what is string"
   ]
  },
  {
   "cell_type": "markdown",
   "id": "bfc6b3dd",
   "metadata": {},
   "source": [
    "• A string is a data type in python.\n",
    "\n",
    "• String is sequence of characters which are enclosed within a single quote or double quote.\n",
    "  These characters could be anything like letters, numbers, or special symbols.\n",
    "  For example, \"python\" is a string.\n",
    "\t\n",
    "• A string is created by placing all the elements inside single ' ' or double '' ''  or triple ''' ''' quotes.\n",
    "\t\n",
    "• The string type  is represented using a str class.\n",
    "\n",
    "• String can be represented by using single ' ' or double '' ''  or triple ''' ''' quotes.\n",
    "\n",
    "• We can create empty string using string constructor str() or single quote ' '.\n",
    "\n",
    "### Ordered:-\n",
    "  it preserves sequence order.\n",
    "\n",
    "### Immutable:- \n",
    "  String is immutable data type this means that element of string can not be changed once created.\n",
    "\n",
    "### Duplicates:-\n",
    "  duplicate elements are allowed in string.\n",
    "\n",
    "• It support homogenous and heterogenous data. Eg. 'abcd' '1234'  'a1b2'\n",
    "\n",
    "• It is global data type which accept everything.\n",
    "\n",
    "• To get the length of string we have len() function.\n",
    "\n",
    "• The background data structure of string is array. Hence indexing is but obvious.\n",
    "  \n",
    "### Indexing\n",
    "  Indexing is used for accessing single element.                                                                                 there are two types of indexing                                                                                                 \n",
    "  1) positive indexing :- positive indexing start from 0 to n-1.    \n",
    "\tFor example, suppose we have a string s = 'python' and  if we want to access the 3rd element then need to use s[2]\n",
    "    here we get 3rd element which is 't'.\n",
    "\t\n",
    "  2) negative indexing:- negative indexing start from -n to -1.\n",
    "\tFor example, suppose we have a string s = 'python' and  if we want to access the 3rd element then need to use s[-3] here we     get 3rd element which is 't'.\n",
    "\tThe index must be an integer. We can't use floats or other types, this will result \n",
    "\tinto TypeError.\n",
    "\tIf we mention the index value greater than the length of a string then it will throw an index error.\n",
    "\n",
    "### slicing\n",
    "   When we want access multiple elements in a sequence for this we have a slicing. Slicing is based on indexing only.\n",
    "   We use : colon for slicing.                                                       \n",
    "   Specify the start index and the end index, separated by a colon, to return a part of the string.\n",
    "   \n",
    "   Syntax:     [start index : stop index : step]\n",
    "   Eg. Suppose we have a string  s = 'python'  now here we can use slicing  s[2:5] then we got 'tho'.                              Ending index is excluded.If we want reverse string then we can use [start index : stop index: -1] "
   ]
  },
  {
   "cell_type": "markdown",
   "id": "2cce0b4d",
   "metadata": {},
   "source": [
    "## basic quesions on string"
   ]
  },
  {
   "cell_type": "code",
   "execution_count": 1,
   "id": "60051ff4",
   "metadata": {},
   "outputs": [],
   "source": [
    "# suppose we have a string\n",
    "s = 'i love data science'"
   ]
  },
  {
   "cell_type": "markdown",
   "id": "fbfceb8f",
   "metadata": {},
   "source": [
    "### Que. How to open list of string methods?"
   ]
  },
  {
   "cell_type": "code",
   "execution_count": 2,
   "id": "ffedfb3d",
   "metadata": {},
   "outputs": [
    {
     "data": {
      "text/plain": [
       "['__add__',\n",
       " '__class__',\n",
       " '__contains__',\n",
       " '__delattr__',\n",
       " '__dir__',\n",
       " '__doc__',\n",
       " '__eq__',\n",
       " '__format__',\n",
       " '__ge__',\n",
       " '__getattribute__',\n",
       " '__getitem__',\n",
       " '__getnewargs__',\n",
       " '__gt__',\n",
       " '__hash__',\n",
       " '__init__',\n",
       " '__init_subclass__',\n",
       " '__iter__',\n",
       " '__le__',\n",
       " '__len__',\n",
       " '__lt__',\n",
       " '__mod__',\n",
       " '__mul__',\n",
       " '__ne__',\n",
       " '__new__',\n",
       " '__reduce__',\n",
       " '__reduce_ex__',\n",
       " '__repr__',\n",
       " '__rmod__',\n",
       " '__rmul__',\n",
       " '__setattr__',\n",
       " '__sizeof__',\n",
       " '__str__',\n",
       " '__subclasshook__',\n",
       " 'capitalize',\n",
       " 'casefold',\n",
       " 'center',\n",
       " 'count',\n",
       " 'encode',\n",
       " 'endswith',\n",
       " 'expandtabs',\n",
       " 'find',\n",
       " 'format',\n",
       " 'format_map',\n",
       " 'index',\n",
       " 'isalnum',\n",
       " 'isalpha',\n",
       " 'isascii',\n",
       " 'isdecimal',\n",
       " 'isdigit',\n",
       " 'isidentifier',\n",
       " 'islower',\n",
       " 'isnumeric',\n",
       " 'isprintable',\n",
       " 'isspace',\n",
       " 'istitle',\n",
       " 'isupper',\n",
       " 'join',\n",
       " 'ljust',\n",
       " 'lower',\n",
       " 'lstrip',\n",
       " 'maketrans',\n",
       " 'partition',\n",
       " 'removeprefix',\n",
       " 'removesuffix',\n",
       " 'replace',\n",
       " 'rfind',\n",
       " 'rindex',\n",
       " 'rjust',\n",
       " 'rpartition',\n",
       " 'rsplit',\n",
       " 'rstrip',\n",
       " 'split',\n",
       " 'splitlines',\n",
       " 'startswith',\n",
       " 'strip',\n",
       " 'swapcase',\n",
       " 'title',\n",
       " 'translate',\n",
       " 'upper',\n",
       " 'zfill']"
      ]
     },
     "execution_count": 2,
     "metadata": {},
     "output_type": "execute_result"
    }
   ],
   "source": [
    "# using dir(str_name) function we get all the methods of string.\n",
    "dir(s)"
   ]
  },
  {
   "cell_type": "markdown",
   "id": "818ee938",
   "metadata": {},
   "source": [
    "### Que. How to get information about the particular method?"
   ]
  },
  {
   "cell_type": "code",
   "execution_count": 3,
   "id": "e5590719",
   "metadata": {},
   "outputs": [
    {
     "name": "stdout",
     "output_type": "stream",
     "text": [
      "Help on built-in function title:\n",
      "\n",
      "title() method of builtins.str instance\n",
      "    Return a version of the string where each word is titlecased.\n",
      "    \n",
      "    More specifically, words start with uppercased characters and all remaining\n",
      "    cased characters have lower case.\n",
      "\n"
     ]
    }
   ],
   "source": [
    "# using help(str.method_name) function\n",
    "#Eg. How to know information about title() \n",
    "help(s.title)"
   ]
  },
  {
   "cell_type": "markdown",
   "id": "a0481129",
   "metadata": {},
   "source": [
    "### Que. How to get length of string?"
   ]
  },
  {
   "cell_type": "code",
   "execution_count": 4,
   "id": "ffaa4930",
   "metadata": {},
   "outputs": [
    {
     "data": {
      "text/plain": [
       "19"
      ]
     },
     "execution_count": 4,
     "metadata": {},
     "output_type": "execute_result"
    }
   ],
   "source": [
    "# using len(str_name) function we get the length of the string\n",
    "len(s)"
   ]
  },
  {
   "cell_type": "markdown",
   "id": "aa6a31a4",
   "metadata": {},
   "source": [
    "### Que. How to create an empty string?"
   ]
  },
  {
   "cell_type": "code",
   "execution_count": 5,
   "id": "5539555b",
   "metadata": {},
   "outputs": [
    {
     "data": {
      "text/plain": [
       "''"
      ]
     },
     "execution_count": 5,
     "metadata": {},
     "output_type": "execute_result"
    }
   ],
   "source": [
    "# python string is called an empty string if the string doesn't have any character, whitespace whatsoever. \n",
    "# Using single quote ' ' or double quote \" \"  we can create an empty string.\n",
    "# assign '' or \"\" to a variable to create an empty string\n",
    "str = ''\n",
    "str = \"\"\n",
    "str"
   ]
  },
  {
   "cell_type": "code",
   "execution_count": 6,
   "id": "96b4b07c",
   "metadata": {},
   "outputs": [
    {
     "data": {
      "text/plain": [
       "0"
      ]
     },
     "execution_count": 6,
     "metadata": {},
     "output_type": "execute_result"
    }
   ],
   "source": [
    "# To check an empty string in python use the len() function,and if it returns zero that means the given string is empty.\n",
    "len(str)"
   ]
  },
  {
   "cell_type": "markdown",
   "id": "a2f1ee2e",
   "metadata": {},
   "source": [
    "### Que. How to create a Blank string?"
   ]
  },
  {
   "cell_type": "code",
   "execution_count": 7,
   "id": "1213a586",
   "metadata": {},
   "outputs": [
    {
     "data": {
      "text/plain": [
       "' '"
      ]
     },
     "execution_count": 7,
     "metadata": {},
     "output_type": "execute_result"
    }
   ],
   "source": [
    "# if the string has single white space or multiple white spaces or tab spaces then it is a black string.\n",
    "str = ' '\n",
    "str"
   ]
  },
  {
   "cell_type": "code",
   "execution_count": 8,
   "id": "cd034780",
   "metadata": {},
   "outputs": [
    {
     "data": {
      "text/plain": [
       "1"
      ]
     },
     "execution_count": 8,
     "metadata": {},
     "output_type": "execute_result"
    }
   ],
   "source": [
    "# if we check length of string\n",
    "len(str)"
   ]
  },
  {
   "cell_type": "markdown",
   "id": "66ee1dae",
   "metadata": {},
   "source": [
    "### Que. How to access string item?"
   ]
  },
  {
   "cell_type": "markdown",
   "id": "0b83cc67",
   "metadata": {},
   "source": [
    "There are many ways to access string items. \n",
    "1) Indexing :-using indexing we can access single element from a string. \n",
    "   For example, suppose we have a string \n",
    "   s = 'python'\n",
    "   and if we want to access the 3rd element then need to use s[2] here we get 3rd element which is 't'.\n",
    "\n",
    "2) Slicing:- using slicing we can access multiple elements from string.\n",
    "Eg. Suppose we have a string s = 'python' now here we can use slicing s[2:5] then we got 'tho'. Ending index is excluded"
   ]
  },
  {
   "cell_type": "code",
   "execution_count": 9,
   "id": "c53b03ba",
   "metadata": {},
   "outputs": [
    {
     "data": {
      "text/plain": [
       "'i love data science'"
      ]
     },
     "execution_count": 9,
     "metadata": {},
     "output_type": "execute_result"
    }
   ],
   "source": [
    "# lets take an example,suppose we have a string\n",
    "s"
   ]
  },
  {
   "cell_type": "code",
   "execution_count": 10,
   "id": "c68574ff",
   "metadata": {},
   "outputs": [
    {
     "data": {
      "text/plain": [
       "'o'"
      ]
     },
     "execution_count": 10,
     "metadata": {},
     "output_type": "execute_result"
    }
   ],
   "source": [
    "# using indexing\n",
    "s[3]"
   ]
  },
  {
   "cell_type": "code",
   "execution_count": 11,
   "id": "bcb2d6a6",
   "metadata": {},
   "outputs": [
    {
     "data": {
      "text/plain": [
       "' '"
      ]
     },
     "execution_count": 11,
     "metadata": {},
     "output_type": "execute_result"
    }
   ],
   "source": [
    "# at 6th index we have blank space.\n",
    "s[6]"
   ]
  },
  {
   "cell_type": "code",
   "execution_count": 12,
   "id": "034cb789",
   "metadata": {},
   "outputs": [
    {
     "data": {
      "text/plain": [
       "'ove d'"
      ]
     },
     "execution_count": 12,
     "metadata": {},
     "output_type": "execute_result"
    }
   ],
   "source": [
    "# using slicing.\n",
    "s[3:8]"
   ]
  },
  {
   "cell_type": "code",
   "execution_count": 13,
   "id": "f1a9201e",
   "metadata": {},
   "outputs": [
    {
     "data": {
      "text/plain": [
       "'data'"
      ]
     },
     "execution_count": 13,
     "metadata": {},
     "output_type": "execute_result"
    }
   ],
   "source": [
    "# if i want 'data'\n",
    "s[7:11]"
   ]
  }
 ],
 "metadata": {
  "kernelspec": {
   "display_name": "Python 3 (ipykernel)",
   "language": "python",
   "name": "python3"
  },
  "language_info": {
   "codemirror_mode": {
    "name": "ipython",
    "version": 3
   },
   "file_extension": ".py",
   "mimetype": "text/x-python",
   "name": "python",
   "nbconvert_exporter": "python",
   "pygments_lexer": "ipython3",
   "version": "3.9.7"
  }
 },
 "nbformat": 4,
 "nbformat_minor": 5
}
