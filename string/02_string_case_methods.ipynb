{
 "cells": [
  {
   "cell_type": "markdown",
   "id": "244f99a6",
   "metadata": {},
   "source": [
    "# capitalize()\n",
    "### converts the first character to upper case and the rest to lower case.\n",
    "### syntax :- str.capitalize()"
   ]
  },
  {
   "cell_type": "code",
   "execution_count": 1,
   "id": "ff3a54ba",
   "metadata": {},
   "outputs": [
    {
     "data": {
      "text/plain": [
       "'Python is object oriented language.'"
      ]
     },
     "execution_count": 1,
     "metadata": {},
     "output_type": "execute_result"
    }
   ],
   "source": [
    "s = 'python is object oriented language.'\n",
    "s.capitalize()"
   ]
  },
  {
   "cell_type": "markdown",
   "id": "80967744",
   "metadata": {},
   "source": [
    "# title()\n",
    "### converts the first character of each word in string to the upper case and the rest to the lower case.\n",
    "### syntax : - str.title()"
   ]
  },
  {
   "cell_type": "code",
   "execution_count": 2,
   "id": "e0ff897c",
   "metadata": {},
   "outputs": [
    {
     "data": {
      "text/plain": [
       "'Python Is Object Oriented Language.'"
      ]
     },
     "execution_count": 2,
     "metadata": {},
     "output_type": "execute_result"
    }
   ],
   "source": [
    "s = 'python is object oriented language.'\n",
    "s.title()"
   ]
  },
  {
   "cell_type": "code",
   "execution_count": 3,
   "id": "060b492f",
   "metadata": {},
   "outputs": [
    {
     "data": {
      "text/plain": [
       "'Helo World'"
      ]
     },
     "execution_count": 3,
     "metadata": {},
     "output_type": "execute_result"
    }
   ],
   "source": [
    "s1 = 'hELo wORld'\n",
    "s1.title()"
   ]
  },
  {
   "cell_type": "markdown",
   "id": "e17c16cb",
   "metadata": {},
   "source": [
    "### The numeric string and symbols are ignored.However, if an alphabet comes immediately after a number, then it converts it to uppercase"
   ]
  },
  {
   "cell_type": "code",
   "execution_count": 4,
   "id": "8f8c65be",
   "metadata": {},
   "outputs": [
    {
     "data": {
      "text/plain": [
       "'1 Harbour Side'"
      ]
     },
     "execution_count": 4,
     "metadata": {},
     "output_type": "execute_result"
    }
   ],
   "source": [
    "s2 = '1 harbour side'\n",
    "s2.title()"
   ]
  },
  {
   "cell_type": "markdown",
   "id": "5bac5d14",
   "metadata": {},
   "source": [
    "# upper()\n",
    "### converts all characters to upper case.\n",
    "### syntax : - str.upper()"
   ]
  },
  {
   "cell_type": "code",
   "execution_count": 5,
   "id": "891eaf2a",
   "metadata": {},
   "outputs": [
    {
     "data": {
      "text/plain": [
       "'PYTHON IS OBJECT ORIENTED LANGUAGE.'"
      ]
     },
     "execution_count": 5,
     "metadata": {},
     "output_type": "execute_result"
    }
   ],
   "source": [
    "s = 'python is object oriented language.'\n",
    "s.upper()"
   ]
  },
  {
   "cell_type": "markdown",
   "id": "16730c49",
   "metadata": {},
   "source": [
    "### Symbols and numbers remain unaffected."
   ]
  },
  {
   "cell_type": "code",
   "execution_count": 6,
   "id": "1cb3c425",
   "metadata": {},
   "outputs": [
    {
     "data": {
      "text/plain": [
       "'1 HELO WORLD'"
      ]
     },
     "execution_count": 6,
     "metadata": {},
     "output_type": "execute_result"
    }
   ],
   "source": [
    "s1 = '1 hELo wORld'\n",
    "s1.upper()"
   ]
  },
  {
   "cell_type": "markdown",
   "id": "02302702",
   "metadata": {},
   "source": [
    "# lower() and casefold()\n",
    "### converts all the characters to lower case.\n",
    "### syntax : - str.lower() and str.casefold()"
   ]
  },
  {
   "cell_type": "code",
   "execution_count": 7,
   "id": "d8d651ee",
   "metadata": {},
   "outputs": [
    {
     "data": {
      "text/plain": [
       "'python is object oriented language.'"
      ]
     },
     "execution_count": 7,
     "metadata": {},
     "output_type": "execute_result"
    }
   ],
   "source": [
    "s = 'PyThon is obJect ORiented language.'\n",
    "s.lower()"
   ]
  },
  {
   "cell_type": "code",
   "execution_count": 8,
   "id": "33f6436c",
   "metadata": {},
   "outputs": [
    {
     "data": {
      "text/plain": [
       "'python is object oriented language.'"
      ]
     },
     "execution_count": 8,
     "metadata": {},
     "output_type": "execute_result"
    }
   ],
   "source": [
    "s.casefold()"
   ]
  },
  {
   "cell_type": "markdown",
   "id": "5fcf62b3",
   "metadata": {},
   "source": [
    "### Symbols and numbers remain unaffected."
   ]
  },
  {
   "cell_type": "code",
   "execution_count": 9,
   "id": "68cc9d2d",
   "metadata": {},
   "outputs": [
    {
     "data": {
      "text/plain": [
       "'@ 1 my name is python'"
      ]
     },
     "execution_count": 9,
     "metadata": {},
     "output_type": "execute_result"
    }
   ],
   "source": [
    "s1 = '@ 1 My nAME is PYThon'\n",
    "s1.lower()"
   ]
  },
  {
   "cell_type": "code",
   "execution_count": 10,
   "id": "57d29b8a",
   "metadata": {},
   "outputs": [
    {
     "data": {
      "text/plain": [
       "'@ 1 my name is python'"
      ]
     },
     "execution_count": 10,
     "metadata": {},
     "output_type": "execute_result"
    }
   ],
   "source": [
    "s1.casefold()"
   ]
  },
  {
   "cell_type": "markdown",
   "id": "f25f3413",
   "metadata": {},
   "source": [
    "the casefold() method converts more characters into lower case.\n",
    "\n",
    "For example, the German lowercase letter 'ß' is equivalent to 'ss'. Since it is already lowercase, the lower() method would not convert it; whereas the casefold() converts it to 'ss'.\n",
    "\n",
    "Use the casefold() method if your application supports globalization or localization."
   ]
  },
  {
   "cell_type": "code",
   "execution_count": 11,
   "id": "55562cb0",
   "metadata": {},
   "outputs": [
    {
     "name": "stdout",
     "output_type": "stream",
     "text": [
      "aussen\n",
      "außen\n"
     ]
    }
   ],
   "source": [
    "s = 'außen'\n",
    "print(s.casefold())\n",
    "print(s.lower())"
   ]
  },
  {
   "cell_type": "markdown",
   "id": "e19dc294",
   "metadata": {},
   "source": [
    "# swapcase()\n",
    "### converts all the uppercase characters to lowercase and vice versa. Symbols and letters are ignored.\n",
    "### syntax :- str.swapcase()"
   ]
  },
  {
   "cell_type": "code",
   "execution_count": 12,
   "id": "714d329b",
   "metadata": {},
   "outputs": [
    {
     "data": {
      "text/plain": [
       "'@ 1 mY Name IS pytHON'"
      ]
     },
     "execution_count": 12,
     "metadata": {},
     "output_type": "execute_result"
    }
   ],
   "source": [
    "s = '@ 1 My nAME is PYThon'\n",
    "s.swapcase()"
   ]
  },
  {
   "cell_type": "code",
   "execution_count": null,
   "id": "55280e7c",
   "metadata": {},
   "outputs": [],
   "source": []
  }
 ],
 "metadata": {
  "kernelspec": {
   "display_name": "Python 3 (ipykernel)",
   "language": "python",
   "name": "python3"
  },
  "language_info": {
   "codemirror_mode": {
    "name": "ipython",
    "version": 3
   },
   "file_extension": ".py",
   "mimetype": "text/x-python",
   "name": "python",
   "nbconvert_exporter": "python",
   "pygments_lexer": "ipython3",
   "version": "3.9.7"
  }
 },
 "nbformat": 4,
 "nbformat_minor": 5
}
