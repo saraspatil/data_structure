{
 "cells": [
  {
   "cell_type": "markdown",
   "id": "db476f47",
   "metadata": {},
   "source": [
    "# diffrence between capitalize() and upper() methods"
   ]
  },
  {
   "cell_type": "markdown",
   "id": "5b2b02fa",
   "metadata": {},
   "source": [
    "The main difference between the capitalize() and the upper() method is that the capitalize() method will capitalize only the first character of the string, whereas the upper() will convert all characters in the upper case."
   ]
  },
  {
   "cell_type": "code",
   "execution_count": 1,
   "id": "5203d65e",
   "metadata": {},
   "outputs": [],
   "source": [
    "s = 'welcome to data science world'"
   ]
  },
  {
   "cell_type": "code",
   "execution_count": 2,
   "id": "c923f2b6",
   "metadata": {},
   "outputs": [
    {
     "data": {
      "text/plain": [
       "'Welcome to data science world'"
      ]
     },
     "execution_count": 2,
     "metadata": {},
     "output_type": "execute_result"
    }
   ],
   "source": [
    "# use capitalize() method\n",
    "s.capitalize()"
   ]
  },
  {
   "cell_type": "code",
   "execution_count": 3,
   "id": "9f2c4fc3",
   "metadata": {},
   "outputs": [
    {
     "data": {
      "text/plain": [
       "'WELCOME TO DATA SCIENCE WORLD'"
      ]
     },
     "execution_count": 3,
     "metadata": {},
     "output_type": "execute_result"
    }
   ],
   "source": [
    "# use upper() method\n",
    "s.upper()"
   ]
  },
  {
   "cell_type": "markdown",
   "id": "ccbffba9",
   "metadata": {},
   "source": [
    "# diffrence between lower() and casefold() methods"
   ]
  },
  {
   "cell_type": "markdown",
   "id": "9ecb2d89",
   "metadata": {},
   "source": [
    "lower() and casefold() methods converts all the characters to lower case but the lower() method does not convert all the unicode charaters whereas the casefold() method converts more characters to lower case.\n",
    "\n",
    "For example, the German lowercase letter 'ß' is equivalent to 'ss'. Since it is already lowercase, the lower() method would not convert it; whereas the casefold() converts it to 'ss'.\n",
    "\n",
    "Use the casefold() method if your application supports globalization or localization."
   ]
  },
  {
   "cell_type": "code",
   "execution_count": 4,
   "id": "16f848e3",
   "metadata": {},
   "outputs": [
    {
     "name": "stdout",
     "output_type": "stream",
     "text": [
      "aussen\n",
      "außen\n"
     ]
    }
   ],
   "source": [
    "s = 'außen'\n",
    "print(s.casefold())\n",
    "print(s.lower())"
   ]
  },
  {
   "cell_type": "markdown",
   "id": "82d4ce07",
   "metadata": {},
   "source": [
    "# diffrence between find() and index()"
   ]
  },
  {
   "cell_type": "markdown",
   "id": "e7af710b",
   "metadata": {},
   "source": [
    "The find() and index() method returns the index of the first occurence of a substring in the given string (case-sensitive). but in find() method,  If the substring is not found it returns -1 and in index() method if substring is not found it throws an error. "
   ]
  },
  {
   "cell_type": "code",
   "execution_count": 5,
   "id": "0ef12fba",
   "metadata": {},
   "outputs": [
    {
     "name": "stdout",
     "output_type": "stream",
     "text": [
      "2\n"
     ]
    }
   ],
   "source": [
    "greet='Hello World'\n",
    "print(greet.index('l'))"
   ]
  },
  {
   "cell_type": "code",
   "execution_count": 6,
   "id": "638b6255",
   "metadata": {},
   "outputs": [
    {
     "name": "stdout",
     "output_type": "stream",
     "text": [
      "2\n"
     ]
    }
   ],
   "source": [
    "greet='Hello World'\n",
    "print(greet.find('l'))"
   ]
  },
  {
   "cell_type": "code",
   "execution_count": 7,
   "id": "7765dd81",
   "metadata": {},
   "outputs": [
    {
     "ename": "ValueError",
     "evalue": "substring not found",
     "output_type": "error",
     "traceback": [
      "\u001b[1;31m---------------------------------------------------------------------------\u001b[0m",
      "\u001b[1;31mValueError\u001b[0m                                Traceback (most recent call last)",
      "\u001b[1;32m~\\AppData\\Local\\Temp/ipykernel_11896/3463167536.py\u001b[0m in \u001b[0;36m<module>\u001b[1;34m\u001b[0m\n\u001b[0;32m      1\u001b[0m \u001b[0mgreet\u001b[0m\u001b[1;33m=\u001b[0m\u001b[1;34m'Hello World'\u001b[0m\u001b[1;33m\u001b[0m\u001b[1;33m\u001b[0m\u001b[0m\n\u001b[1;32m----> 2\u001b[1;33m \u001b[0mprint\u001b[0m\u001b[1;33m(\u001b[0m\u001b[0mgreet\u001b[0m\u001b[1;33m.\u001b[0m\u001b[0mindex\u001b[0m\u001b[1;33m(\u001b[0m\u001b[1;34m'h'\u001b[0m\u001b[1;33m)\u001b[0m\u001b[1;33m)\u001b[0m \u001b[1;31m# throws error: substring not found\u001b[0m\u001b[1;33m\u001b[0m\u001b[1;33m\u001b[0m\u001b[0m\n\u001b[0m",
      "\u001b[1;31mValueError\u001b[0m: substring not found"
     ]
    }
   ],
   "source": [
    "greet='Hello World'\n",
    "print(greet.index('h')) # throws error: substring not found "
   ]
  },
  {
   "cell_type": "code",
   "execution_count": null,
   "id": "1c3d9cbc",
   "metadata": {},
   "outputs": [],
   "source": [
    "greet='Hello World'\n",
    "print(greet.find('h')) # returns -1: substring not found "
   ]
  },
  {
   "cell_type": "code",
   "execution_count": null,
   "id": "e7116883",
   "metadata": {},
   "outputs": [],
   "source": []
  }
 ],
 "metadata": {
  "kernelspec": {
   "display_name": "Python 3 (ipykernel)",
   "language": "python",
   "name": "python3"
  },
  "language_info": {
   "codemirror_mode": {
    "name": "ipython",
    "version": 3
   },
   "file_extension": ".py",
   "mimetype": "text/x-python",
   "name": "python",
   "nbconvert_exporter": "python",
   "pygments_lexer": "ipython3",
   "version": "3.9.7"
  }
 },
 "nbformat": 4,
 "nbformat_minor": 5
}
