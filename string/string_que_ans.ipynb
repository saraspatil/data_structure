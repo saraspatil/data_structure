{
 "cells": [
  {
   "cell_type": "markdown",
   "id": "48937b91",
   "metadata": {},
   "source": [
    "### Q .  Write a code to create empty string 'str1'."
   ]
  },
  {
   "cell_type": "code",
   "execution_count": 1,
   "id": "362ca717",
   "metadata": {},
   "outputs": [
    {
     "data": {
      "text/plain": [
       "str"
      ]
     },
     "execution_count": 1,
     "metadata": {},
     "output_type": "execute_result"
    }
   ],
   "source": [
    "str1 = ''\n",
    "type(str1)"
   ]
  },
  {
   "cell_type": "markdown",
   "id": "bbacb936",
   "metadata": {},
   "source": [
    "### Q . If the length of string is 9, what would be the index value of middle element?\n",
    "#### ans. 4"
   ]
  },
  {
   "cell_type": "markdown",
   "id": "72245ef0",
   "metadata": {},
   "source": [
    "### Q. Write a program to display each character of the following string in separate line using 'for' loop.\n",
    "### str1 = Welcome to My Blog"
   ]
  },
  {
   "cell_type": "code",
   "execution_count": 2,
   "id": "5926cbc1",
   "metadata": {},
   "outputs": [
    {
     "name": "stdout",
     "output_type": "stream",
     "text": [
      "W\n",
      "e\n",
      "l\n",
      "c\n",
      "o\n",
      "m\n",
      "e\n",
      " \n",
      "t\n",
      "o\n",
      " \n",
      "M\n",
      "y\n",
      " \n",
      "B\n",
      "l\n",
      "o\n",
      "g\n"
     ]
    }
   ],
   "source": [
    "str1 = 'Welcome to My Blog'\n",
    "for char in str1:\n",
    "    print(char)"
   ]
  },
  {
   "cell_type": "markdown",
   "id": "f2ffb97c",
   "metadata": {},
   "source": [
    "### Q. Write a program to display each character of the following string in separate line using 'while' loop.\n",
    "### str1 = Welcome to My Blog"
   ]
  },
  {
   "cell_type": "code",
   "execution_count": 3,
   "id": "514964c4",
   "metadata": {},
   "outputs": [
    {
     "name": "stdout",
     "output_type": "stream",
     "text": [
      "W\n",
      "e\n",
      "l\n",
      "c\n",
      "o\n",
      "m\n",
      "e\n",
      " \n",
      "t\n",
      "o\n",
      " \n",
      "M\n",
      "y\n",
      " \n",
      "B\n",
      "l\n",
      "o\n",
      "g\n"
     ]
    }
   ],
   "source": [
    "str1 = 'Welcome to My Blog'\n",
    "char = 0\n",
    "while char < len(str1):\n",
    "    print(str1[char])\n",
    "    char += 1"
   ]
  },
  {
   "cell_type": "markdown",
   "id": "232f233d",
   "metadata": {},
   "source": [
    "### Q. find the index value of 'B' in the following string.\n",
    "### str1  = \"Welcome to my Blog\""
   ]
  },
  {
   "cell_type": "code",
   "execution_count": 4,
   "id": "9eec16ad",
   "metadata": {},
   "outputs": [
    {
     "name": "stdout",
     "output_type": "stream",
     "text": [
      "positive index of B is: 14\n",
      "positive index of B is: 14\n"
     ]
    }
   ],
   "source": [
    "str1  = \"Welcome to my Blog\"\n",
    "print('positive index of B is:',str1.index('B'))\n",
    "print('positive index of B is:',str1.find('B'))"
   ]
  },
  {
   "cell_type": "markdown",
   "id": "9538e71c",
   "metadata": {},
   "source": [
    "### Write a program to count the length of string without using inbuilt function."
   ]
  },
  {
   "cell_type": "code",
   "execution_count": 5,
   "id": "ec80bb8c",
   "metadata": {},
   "outputs": [
    {
     "name": "stdout",
     "output_type": "stream",
     "text": [
      "enter your string:Python is very easy\n",
      "length of string is: 19\n"
     ]
    }
   ],
   "source": [
    "str = input('enter your string:')\n",
    "count = 0\n",
    "for i in str:\n",
    "    count +=1\n",
    "print('length of string is:',count)\n",
    "    \n",
    "    "
   ]
  },
  {
   "cell_type": "markdown",
   "id": "74ca6983",
   "metadata": {},
   "source": [
    "### Q.  Write the code to join string 'str1' and 'str2' and store the result in variable 'str3'"
   ]
  },
  {
   "cell_type": "code",
   "execution_count": 6,
   "id": "3b76ec53",
   "metadata": {},
   "outputs": [
    {
     "data": {
      "text/plain": [
       "'i love programming'"
      ]
     },
     "execution_count": 6,
     "metadata": {},
     "output_type": "execute_result"
    }
   ],
   "source": [
    "str1 = 'i love'\n",
    "str2 = 'programming'\n",
    "str3 = str1 + ' '+ str2\n",
    "str3"
   ]
  },
  {
   "cell_type": "markdown",
   "id": "dd69a622",
   "metadata": {},
   "source": [
    "### Q.  Write a program to accept string and display total number of alphabets."
   ]
  },
  {
   "cell_type": "code",
   "execution_count": 7,
   "id": "07247f18",
   "metadata": {},
   "outputs": [
    {
     "name": "stdout",
     "output_type": "stream",
     "text": [
      "Enter the string:I have 3 years experience and my salary is 1200000\n",
      "Total number of alphabets are 33\n"
     ]
    }
   ],
   "source": [
    "str = input('Enter the string:')\n",
    "count = 0\n",
    "for i in str:\n",
    "    if i.isalpha() == True:\n",
    "        count +=1\n",
    "print('Total number of alphabets are',count)"
   ]
  },
  {
   "cell_type": "markdown",
   "id": "ba5d76f2",
   "metadata": {},
   "source": [
    "### Q. Write a program to accept a string and display the sum of the digits, if any present in string. \n",
    "### for example: input string : My position is 1st and my friend come on 4th\n",
    "### output : 5\n"
   ]
  },
  {
   "cell_type": "code",
   "execution_count": 8,
   "id": "7554a3a3",
   "metadata": {},
   "outputs": [
    {
     "name": "stdout",
     "output_type": "stream",
     "text": [
      "Enter any string:I have 3 years experience and my salary is 1200000\n",
      "the sum of the digits 6\n"
     ]
    }
   ],
   "source": [
    "str = input('Enter any string:')\n",
    "sum = 0\n",
    "for i in str:\n",
    "    if i.isdigit() == True:\n",
    "        sum = sum + int(i)     # i is string ,convert it into integer for perform sum operation.\n",
    "print('the sum of the digits',sum)"
   ]
  },
  {
   "cell_type": "markdown",
   "id": "43f2709d",
   "metadata": {},
   "source": [
    "### Q.Write a program to accept a string and convert it into lowercase."
   ]
  },
  {
   "cell_type": "code",
   "execution_count": 9,
   "id": "db16c1be",
   "metadata": {},
   "outputs": [
    {
     "name": "stdout",
     "output_type": "stream",
     "text": [
      "Enter any string:I AM StRONg in PrOGramming\n",
      "string in lowercase: i am strong in programming\n"
     ]
    }
   ],
   "source": [
    "str = input('Enter any string:')\n",
    "print('string in lowercase:',str.lower())"
   ]
  },
  {
   "cell_type": "markdown",
   "id": "7081d1b8",
   "metadata": {},
   "source": [
    "### Q. Write a program to count the number of lowercase and uppercase character in a string accepted from the user.\n"
   ]
  },
  {
   "cell_type": "code",
   "execution_count": 10,
   "id": "749ce269",
   "metadata": {},
   "outputs": [
    {
     "name": "stdout",
     "output_type": "stream",
     "text": [
      "Enter any string:WelCome In Data Science World \n",
      "count of lowercase characters is: 19\n",
      "count of uppercase characters is: 6\n"
     ]
    }
   ],
   "source": [
    "str = input('Enter any string:')\n",
    "lc = 0\n",
    "uc = 0\n",
    "for i in str:\n",
    "    if i.islower():\n",
    "        lc = lc + 1\n",
    "    if i.isupper():\n",
    "        uc = uc + 1\n",
    "print('count of lowercase characters is:',lc)\n",
    "print('count of uppercase characters is:',uc)\n",
    "        "
   ]
  },
  {
   "cell_type": "markdown",
   "id": "d389aeac",
   "metadata": {},
   "source": [
    "### Q, Write a program to accept a string and display each word and it's length."
   ]
  },
  {
   "cell_type": "code",
   "execution_count": 11,
   "id": "54dfa5a1",
   "metadata": {},
   "outputs": [
    {
     "name": "stdout",
     "output_type": "stream",
     "text": [
      "Enter any string:WelCome In Data Science World\n",
      "the length of  WelCome is 7\n",
      "the length of  In is 2\n",
      "the length of  Data is 4\n",
      "the length of  Science is 7\n",
      "the length of  World is 5\n"
     ]
    }
   ],
   "source": [
    "str = input('Enter any string:')\n",
    "for i in str.split():\n",
    "    print('the length of ', i,'is',len(i))"
   ]
  },
  {
   "cell_type": "markdown",
   "id": "7e23e755",
   "metadata": {},
   "source": [
    "### Q. Write a program to accept a string and display string with capital letter of each word.\n",
    "### for example, if input string is : welcome to my blog\n",
    "### output string : Welcome To My Blog"
   ]
  },
  {
   "cell_type": "code",
   "execution_count": 12,
   "id": "af5167bd",
   "metadata": {},
   "outputs": [
    {
     "name": "stdout",
     "output_type": "stream",
     "text": [
      "Enter ani string:python is easy\n",
      "my input string is: python is easy\n",
      "my output string is: Python Is Easy\n"
     ]
    }
   ],
   "source": [
    "str = input('Enter ani string:')\n",
    "print('my input string is:',str)\n",
    "print('my output string is:',str.title())"
   ]
  },
  {
   "cell_type": "markdown",
   "id": "10621772",
   "metadata": {},
   "source": [
    "### Q. Write a program to replace all the word 'do' with 'done' in the following string.\n",
    "###      str1 = \"I do you do and we all will do\""
   ]
  },
  {
   "cell_type": "code",
   "execution_count": 13,
   "id": "a7c25da1",
   "metadata": {},
   "outputs": [
    {
     "name": "stdout",
     "output_type": "stream",
     "text": [
      "I done you done and we all will done\n"
     ]
    }
   ],
   "source": [
    "str1 = \"I do you do and we all will do\"\n",
    "print(str1.replace('do','done'))"
   ]
  },
  {
   "cell_type": "markdown",
   "id": "21abb9e4",
   "metadata": {},
   "source": [
    "### Q.  Accept a string and display in reverse order."
   ]
  },
  {
   "cell_type": "code",
   "execution_count": 14,
   "id": "ebc07253",
   "metadata": {},
   "outputs": [
    {
     "name": "stdout",
     "output_type": "stream",
     "text": [
      "Enter any string:python is easy\n",
      "my reverse string is: ysae si nohtyp\n"
     ]
    }
   ],
   "source": [
    "str = input('Enter any string:')\n",
    "print('my reverse string is:',str[::-1])"
   ]
  },
  {
   "cell_type": "markdown",
   "id": "2ec15d6d",
   "metadata": {},
   "source": [
    "### Q. Write a program to accept a string and display 20 times."
   ]
  },
  {
   "cell_type": "code",
   "execution_count": 15,
   "id": "c78f537b",
   "metadata": {},
   "outputs": [
    {
     "name": "stdout",
     "output_type": "stream",
     "text": [
      "Enter any string:More Practice , More Accuracy.\n",
      "1 . More Practice , More Accuracy.\n",
      "2 . More Practice , More Accuracy.\n",
      "3 . More Practice , More Accuracy.\n",
      "4 . More Practice , More Accuracy.\n",
      "5 . More Practice , More Accuracy.\n",
      "6 . More Practice , More Accuracy.\n",
      "7 . More Practice , More Accuracy.\n",
      "8 . More Practice , More Accuracy.\n",
      "9 . More Practice , More Accuracy.\n",
      "10 . More Practice , More Accuracy.\n",
      "11 . More Practice , More Accuracy.\n",
      "12 . More Practice , More Accuracy.\n",
      "13 . More Practice , More Accuracy.\n",
      "14 . More Practice , More Accuracy.\n",
      "15 . More Practice , More Accuracy.\n",
      "16 . More Practice , More Accuracy.\n",
      "17 . More Practice , More Accuracy.\n",
      "18 . More Practice , More Accuracy.\n",
      "19 . More Practice , More Accuracy.\n",
      "20 . More Practice , More Accuracy.\n"
     ]
    }
   ],
   "source": [
    "str = input('Enter any string:')\n",
    "count = 1\n",
    "for i in range(20):\n",
    "    print(count,'.',str)\n",
    "    count = count + 1"
   ]
  },
  {
   "cell_type": "markdown",
   "id": "ebbdb6ee",
   "metadata": {},
   "source": [
    "### Q. Write a program to accept a string in python and display the entire string in upper case."
   ]
  },
  {
   "cell_type": "code",
   "execution_count": 16,
   "id": "b2a48317",
   "metadata": {},
   "outputs": [
    {
     "name": "stdout",
     "output_type": "stream",
     "text": [
      "Enter any string:WelCome In Data Science World\n",
      "WELCOME IN DATA SCIENCE WORLD\n"
     ]
    }
   ],
   "source": [
    "str = input('Enter any string:')\n",
    "print(str.upper())"
   ]
  },
  {
   "cell_type": "markdown",
   "id": "23d51684",
   "metadata": {},
   "source": [
    "### Q. Write a program to accept a string and display last three characters of the string."
   ]
  },
  {
   "cell_type": "code",
   "execution_count": 17,
   "id": "6c3fb7bf",
   "metadata": {},
   "outputs": [
    {
     "name": "stdout",
     "output_type": "stream",
     "text": [
      "Enter any string:WelCome In Data Science World\n",
      " last three characters of the string: rld\n"
     ]
    }
   ],
   "source": [
    "str = input('Enter any string:')\n",
    "print(' last three characters of the string:',str[-3:])\n",
    "    "
   ]
  },
  {
   "cell_type": "markdown",
   "id": "476529bf",
   "metadata": {},
   "source": [
    "### Q. Write a program to accept a string in python and display the entire string in lower case."
   ]
  },
  {
   "cell_type": "code",
   "execution_count": 18,
   "id": "467c0a7c",
   "metadata": {},
   "outputs": [
    {
     "name": "stdout",
     "output_type": "stream",
     "text": [
      "Enter any string:WelCome In Data Science World\n",
      "the string in lowercase: welcome in data science world\n"
     ]
    }
   ],
   "source": [
    "str = input('Enter any string:')\n",
    "print('the string in lowercase:',str.lower())"
   ]
  },
  {
   "cell_type": "markdown",
   "id": "cc047f7c",
   "metadata": {},
   "source": [
    "### Q. Accept a string and display the entire string with first and last character in upper case."
   ]
  },
  {
   "cell_type": "code",
   "execution_count": 19,
   "id": "0c77e9aa",
   "metadata": {},
   "outputs": [
    {
     "name": "stdout",
     "output_type": "stream",
     "text": [
      "Enter any string:welcome in data science world\n",
      "Welcome in data science worlD\n"
     ]
    }
   ],
   "source": [
    "str = input('Enter any string:')\n",
    "print(str[0].upper() + str[1:-1] + str[-1].upper())"
   ]
  },
  {
   "cell_type": "markdown",
   "id": "87ecda39",
   "metadata": {},
   "source": [
    "### Q.Write a program to accept a string and display first three characters of the string."
   ]
  },
  {
   "cell_type": "code",
   "execution_count": 20,
   "id": "3092fe03",
   "metadata": {},
   "outputs": [
    {
     "name": "stdout",
     "output_type": "stream",
     "text": [
      "Enter any string:welcome in data science world\n",
      "first three characters are:  wel\n"
     ]
    }
   ],
   "source": [
    "str = input('Enter any string:')\n",
    "print('first three characters are: ',str[:3])"
   ]
  },
  {
   "cell_type": "markdown",
   "id": "bb7d5d97",
   "metadata": {},
   "source": [
    "### Q. Write a function in python which accept a string as argument and display total number of vowels.\n"
   ]
  },
  {
   "cell_type": "code",
   "execution_count": 21,
   "id": "5ed807f3",
   "metadata": {},
   "outputs": [
    {
     "name": "stdout",
     "output_type": "stream",
     "text": [
      "Enter any string:welcome in data science world\n",
      "Total number of vowels are 10\n"
     ]
    }
   ],
   "source": [
    "str = input('Enter any string:')\n",
    "\n",
    "vowels = 'aeiouAEIOU'\n",
    "\n",
    "def vowelcount(str):\n",
    "    c = 0\n",
    "    for i in str:\n",
    "        if i in vowels:\n",
    "            c = c + 1\n",
    "    print('Total number of vowels are',c)\n",
    "vowelcount(str)     "
   ]
  },
  {
   "cell_type": "markdown",
   "id": "fa0c9d10",
   "metadata": {},
   "source": [
    "### Q.  Write a function in python which accept a string as argument and display total number of lower case characters."
   ]
  },
  {
   "cell_type": "code",
   "execution_count": 22,
   "id": "31e28453",
   "metadata": {},
   "outputs": [
    {
     "name": "stdout",
     "output_type": "stream",
     "text": [
      "Enter any string:My Name Is SARAS\n",
      "Total number of lowercase are:  5\n"
     ]
    }
   ],
   "source": [
    "str = input('Enter any string:')\n",
    "\n",
    "def lccount(str):\n",
    "    count =  0\n",
    "    for i in str:\n",
    "        if i.islower() == True:\n",
    "            count = count + 1\n",
    "    print('Total number of lowercase are: ',count)\n",
    "lccount(str)"
   ]
  },
  {
   "cell_type": "markdown",
   "id": "36f6ec33",
   "metadata": {},
   "source": [
    "### Q. Write a function in python which accept a string as argument and display total number of digits."
   ]
  },
  {
   "cell_type": "code",
   "execution_count": 23,
   "id": "e70f772a",
   "metadata": {},
   "outputs": [
    {
     "name": "stdout",
     "output_type": "stream",
     "text": [
      "Enter any string:my experience is 4 years and my salary is 1200000\n",
      "Total number of digits: 8\n"
     ]
    }
   ],
   "source": [
    "str = input('Enter any string:')\n",
    "\n",
    "def totaldigit(str):\n",
    "    total_no = 0\n",
    "    for i in str:\n",
    "        if i.isdigit():\n",
    "            total_no = total_no + 1\n",
    "    print('Total number of digits:',total_no)\n",
    "totaldigit(str)\n"
   ]
  },
  {
   "cell_type": "code",
   "execution_count": null,
   "id": "32f8081f",
   "metadata": {},
   "outputs": [],
   "source": []
  }
 ],
 "metadata": {
  "kernelspec": {
   "display_name": "Python 3 (ipykernel)",
   "language": "python",
   "name": "python3"
  },
  "language_info": {
   "codemirror_mode": {
    "name": "ipython",
    "version": 3
   },
   "file_extension": ".py",
   "mimetype": "text/x-python",
   "name": "python",
   "nbconvert_exporter": "python",
   "pygments_lexer": "ipython3",
   "version": "3.9.7"
  }
 },
 "nbformat": 4,
 "nbformat_minor": 5
}
